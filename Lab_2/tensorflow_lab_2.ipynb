{
  "nbformat": 4,
  "nbformat_minor": 0,
  "metadata": {
    "colab": {
      "name": "tensorflow_lab_2.ipynb",
      "version": "0.3.2",
      "provenance": [],
      "collapsed_sections": []
    },
    "kernelspec": {
      "display_name": "Python 2",
      "language": "python",
      "name": "python2"
    }
  },
  "cells": [
    {
      "metadata": {
        "id": "zJc5nqKVxiNR",
        "colab_type": "code",
        "colab": {}
      },
      "cell_type": "code",
      "source": [
        "import numpy as np\n",
        "import tensorflow as tf\n",
        "from __future__ import division, print_function, unicode_literals\n",
        "\n",
        "# to make this notebook's output stable across runs\n",
        "def reset_graph(seed=42):\n",
        "    tf.reset_default_graph()\n",
        "    tf.set_random_seed(seed)\n",
        "    np.random.seed(seed)"
      ],
      "execution_count": 0,
      "outputs": []
    },
    {
      "metadata": {
        "id": "0tDi8HIhxiNW",
        "colab_type": "text"
      },
      "cell_type": "markdown",
      "source": [
        "# Tensorflow and Deep Learning\n",
        "\n",
        "In this lab assignment, first you will learn how to build and train a neural network that recognises handwritten digits, and then you will build LeNet-5 CNN architecture, which is widely used for handwritten digit recognition. At the end of this lab assignment, you will make AlexNet CNN architecture, which won the 2012 ImageNet ILSVRC challenge."
      ]
    },
    {
      "metadata": {
        "id": "amNq1b7ZxiNY",
        "colab_type": "text"
      },
      "cell_type": "markdown",
      "source": [
        "---\n",
        "# 1. Dataset\n",
        "In the first part of the assignment, we use the MNIST dataset, which is a set of 70,000 small images of digits handwritten by high school students and employees of the US Census Bureau. Each image is labeled with the digit it represents. There are 70,000 images, and each image has 784 features. This is because each image is 28×28=784 pixels, and each feature simply represents one pixel's intensity, from 0 (white) to 255 (black). The following figure shows a few images from the MNIST dataset to give you a feel for the complexity of the classification task.\n",
        "\n",
        "<img src=\"figs/1-mnist.png\" style=\"width: 300px;\"/>\n",
        "\n",
        "To begin the assignment, first, use `mnist_data.read_data_sets` and download images and labels. It return two lists, called `mnist.test` with 10K images+labels, and `mnist.train` with 60K images+labels."
      ]
    },
    {
      "metadata": {
        "id": "RrR76wjlxiNa",
        "colab_type": "code",
        "outputId": "b95ffc97-e46c-4fd3-a8ff-27b00442ed3e",
        "colab": {
          "base_uri": "https://localhost:8080/",
          "height": 84
        }
      },
      "cell_type": "code",
      "source": [
        "# TODO: Replace <FILL IN> with appropriate code\n",
        "\n",
        "from tensorflow.examples.tutorials.mnist import input_data as mnist_data\n",
        "\n",
        "#import data\n",
        "mnist = mnist_data.read_data_sets(\"MNIST_data/\", one_hot=True, reshape=True)"
      ],
      "execution_count": 0,
      "outputs": [
        {
          "output_type": "stream",
          "text": [
            "Extracting MNIST_data/train-images-idx3-ubyte.gz\n",
            "Extracting MNIST_data/train-labels-idx1-ubyte.gz\n",
            "Extracting MNIST_data/t10k-images-idx3-ubyte.gz\n",
            "Extracting MNIST_data/t10k-labels-idx1-ubyte.gz\n"
          ],
          "name": "stdout"
        }
      ]
    },
    {
      "metadata": {
        "id": "HCplaxdexiNe",
        "colab_type": "text"
      },
      "cell_type": "markdown",
      "source": [
        "---\n",
        "# 2. A One-Layer Neural Network\n",
        "<img src=\"figs/2-comic1.png\" style=\"width: 500px;\"/>\n",
        "\n",
        "Let's start by building a one-layer neural network. Handwritten digits in the MNIST dataset are 28x28 pixel greyscale images. The simplest approach for classifying them is to use the 28x28=784 pixels as inputs for a **one-layer neural network**. Each neuron in the network does a weighted sum of all of its inputs, adds a bias and then feeds the result through some non-linear activation function. Here we design a one-layer neural network with 10 output neurons since we want to classify digits into 10 classes (0 to 9).\n",
        "<img src=\"figs/3-one_layer.png\" style=\"width: 400px;\"/>\n",
        "\n",
        "\n",
        "For a classification problem, an *activation function* that works well is **softmax**. Applying softmax on a vector is done by taking the exponential of each element and then normalising the vector.\n",
        "<img src=\"figs/4-softmax.png\" style=\"width: 300px;\"/>\n",
        "\n",
        "We can summarise the behaviour of this single layer of neurons into a simple formula using a *matrix multiply*. If we give input data into the network in *mini-batch* of 100 images, it produces 100 predictions as the output. We define the **weights matrix $W$** with 10 columns, in which each column indicates the weight of a one class (a single digit), from 0 to 9. Using the first column of $W$, we can compute the weighted sum of all the pixels of the first image. This sum corresponds to the first neuron that points to the number 0. Using the second column of $W$, we do the same for the second neuron (number 1) and so on until the 10th neuron. We can then repeat the operation for the remaining 99 images in the mini-batch. If we call $X$ the matrix containing our 100 images (each row corresponds to one digit), all the weighted sums for our 10 neurons, computed on 100 images are simply $X.W$. Each neuron must now add its bias. Since we have 10 neurons, we have 10 bias constants. We finally apply the **softmax activation function** and obtain the formula describing a one-layer neural network, applied to 100 images.\n",
        "<img src=\"figs/5-xw.png\" style=\"width: 600px;\"/>\n",
        "<img src=\"figs/6-softmax2.png\" style=\"width: 500px;\"/>\n",
        "\n",
        "Then, we need to use the **cross-entropy** to measure how good the predictions are, i.e., the distance between what the network tells us and what we know to be the truth. The cross-entropy is a function of weights, biases, pixels of the training image and its known label. If we compute the partial derivatives of the cross-entropy relatively to all the weights and all the biases, we obtain a **gradient**, computed for a given image, label and present value of weights and biases. We can update weights and biases by a fraction of the gradient and do the same thing again using the next batch of training images.\n",
        "<img src=\"figs/7-cross_entropy.png\" style=\"width: 600px;\"/>"
      ]
    },
    {
      "metadata": {
        "collapsed": true,
        "id": "Czsz1dbexiNg",
        "colab_type": "text"
      },
      "cell_type": "markdown",
      "source": [
        "### Define Variables and Placeholders\n",
        "First we define TensorFlow **variables** and **placeholders**. *Variables* are all the parameters that you want the training algorithm to determine for you (e.g., weights and biases). *Placeholders* are parameters that will be filled with actual data during training (e.g., training images). The shape of the tensor holding the training images is [None, 28, 28, 1] which stands for:\n",
        "  - 28, 28, 1: our images are 28x28 (784) pixels x 1 value per pixel (grayscale). The last number would be 3 for color images and is not really necessary here.\n",
        "  - None: this dimension will be the number of images in the mini-batch. It will be known at training time.\n",
        "\n",
        "We also need an additional placeholder for the training labels that will be provided alongside training images."
      ]
    },
    {
      "metadata": {
        "id": "1G19b-gmxiNh",
        "colab_type": "code",
        "colab": {}
      },
      "cell_type": "code",
      "source": [
        "# TODO: Replace <FILL IN> with appropriate code\n",
        "\n",
        "# neural network with 1 layer of 10 softmax neurons\n",
        "#\n",
        "# · · · · · · · · · ·       (input data, flattened pixels)       X [batch, 784] \n",
        "# \\x/x\\x/x\\x/x\\x/x\\x/    -- fully connected layer (softmax)      W [784, 10]     b[10]\n",
        "#   · · · · · · · ·                                              Y_hat [batch, 10]\n",
        "\n",
        "# input X: 28x28 grayscale images, the first dimension (None) will index the images in the mini-batch\n",
        "X = tf.placeholder(tf.float32, shape=[None, 28, 28, 1])\n",
        "\n",
        "# correct answers will go here\n",
        "Y = tf.placeholder(tf.float32, shape=[None, 10])\n",
        "\n",
        "# weights W[784, 10], 784 = 28 * 28\n",
        "W = tf.Variable(tf.zeros([784, 10]))\n",
        "\n",
        "# biases b[10]\n",
        "b = tf.Variable(tf.zeros([10]))"
      ],
      "execution_count": 0,
      "outputs": []
    },
    {
      "metadata": {
        "id": "t0-eZVbHxiNm",
        "colab_type": "text"
      },
      "cell_type": "markdown",
      "source": [
        "### Build The Model\n",
        "Now, we can make a **model** for a one-layer neural network. The formula is the one we explained before, i.e., $\\hat{Y} = softmax(X . W + b)$. You can use the `tf.nn.softmax` and `tf.matmul` to build the model. Here, we need to use the `tf.reshape` to transform our 28x28 images into single vectors of 784 pixels."
      ]
    },
    {
      "metadata": {
        "id": "HPjeQSNYxiNo",
        "colab_type": "code",
        "colab": {}
      },
      "cell_type": "code",
      "source": [
        "# TODO: Replace <FILL IN> with appropriate code\n",
        "\n",
        "# flatten the images into a single line of pixels\n",
        "XX = tf.reshape(X,[-1,784]) #problem here since it should be of size [none, 784]\n",
        "\n",
        "# The model\n",
        "Y_hat = tf.nn.softmax(tf.matmul(XX,W) + b)"
      ],
      "execution_count": 0,
      "outputs": []
    },
    {
      "metadata": {
        "id": "d0rAY07mxiNs",
        "colab_type": "text"
      },
      "cell_type": "markdown",
      "source": [
        "### Define The Cost Function\n",
        "Now, we have model predictions $\\hat{Y}$ and correct labels $Y$, so for each instance $i$ (image) we can compute the cross-entropy as the **cost function**: $cross\\_entropy = -\\sum(Y_i * log(\\hat{Y}i))$. You can use `reduce_mean` to add all the components in a tensor."
      ]
    },
    {
      "metadata": {
        "id": "Cn1TlngtxiNu",
        "colab_type": "code",
        "colab": {}
      },
      "cell_type": "code",
      "source": [
        "# TODO: Replace <FILL IN> with appropriate code\n",
        "\n",
        "cross_entropy = -tf.reduce_sum(Y*tf.log(Y_hat))"
      ],
      "execution_count": 0,
      "outputs": []
    },
    {
      "metadata": {
        "id": "Tr5FD6JZxiNy",
        "colab_type": "text"
      },
      "cell_type": "markdown",
      "source": [
        "### Traine the Model\n",
        "Now, select the gradient descent optimiser `GradientDescentOptimizer` and ask it to minimise the cross-entropy cost. In this step, TensorFlow computes the partial derivatives of the cost function relatively to all the weights and all the biases (the gradient). The gradient is then used to update the weights and biases. Set the learning rate is $0.005$."
      ]
    },
    {
      "metadata": {
        "id": "kLkjZ_4kxiNz",
        "colab_type": "code",
        "colab": {}
      },
      "cell_type": "code",
      "source": [
        "# TODO: Replace <FILL IN> with appropriate code\n",
        "\n",
        "learning_rate = 0.005\n",
        "\n",
        "optimizer = tf.train.GradientDescentOptimizer(learning_rate)\n",
        "train_step = optimizer.minimize(cross_entropy)"
      ],
      "execution_count": 0,
      "outputs": []
    },
    {
      "metadata": {
        "id": "1d6wSYZTxiN2",
        "colab_type": "text"
      },
      "cell_type": "markdown",
      "source": [
        "### Execute the Model\n",
        "It is time to run the training loop. All the TensorFlow instructions up to this point have been preparing a computation graph in memory but nothing has been computed yet. The computation requires actual data to be fed into the placeholders. This is supplied in the form of a Python dictionary, where the keys are the names of the placeholders. During the trainig print out the cost every 200 steps. Moreove, after training the model, print out the accurray of the model by testing it on the test data."
      ]
    },
    {
      "metadata": {
        "id": "b66UOFCfxiN4",
        "colab_type": "code",
        "outputId": "f1e30100-b826-46e0-af25-3e71441ba71a",
        "colab": {
          "base_uri": "https://localhost:8080/",
          "height": 1768
        }
      },
      "cell_type": "code",
      "source": [
        "# TODO: Replace <FILL IN> with appropriate code\n",
        "from matplotlib import pyplot as plt\n",
        "train_accuracies = []\n",
        "test_accuracies = []\n",
        "costs = []\n",
        "\n",
        "# init\n",
        "init = tf.global_variables_initializer()\n",
        "\n",
        "correct_prediction = tf.equal(tf.argmax(Y_hat,1), tf.argmax(Y,1))\n",
        "accuracy = tf.reduce_mean(tf.cast(correct_prediction, \"float\"))\n",
        "\n",
        "n_epochs = 5000\n",
        "with tf.Session() as sess:\n",
        "    sess.run(init)\n",
        "    for n in range(n_epochs):\n",
        "      batch_xs, batch_ys = mnist.train.next_batch(100)\n",
        "      sess.run(train_step, {XX: batch_xs, Y: batch_ys})\n",
        "      \n",
        "      if n % 100 == 0:\n",
        "        cost, train_accuracy = sess.run([cross_entropy, accuracy], feed_dict={XX: mnist.train.images, Y: mnist.train.labels})\n",
        "        print(\"Iteration {0}, cost is {1}\".format(n, round(cost,2)))\n",
        "        test_accuracy = sess.run(accuracy, feed_dict={XX: mnist.test.images, Y: mnist.test.labels})\n",
        "        print(\"current Model Accuracy: {0} %\".format(round(test_accuracy*100, 2)))\n",
        "        train_accuracies.append(train_accuracy)\n",
        "        test_accuracies.append(test_accuracy)\n",
        "        costs.append(cost)\n",
        "        \n",
        "               \n",
        "    print(\"----------------------------------------------\")\n",
        "    final_accuracy = sess.run(accuracy, feed_dict={XX: mnist.test.images, Y: mnist.test.labels})\n",
        "    print(\"Final Model Accuracy: {0} %\".format(round(final_accuracy*100, 2)))\n",
        "    print(\"Final Cost: {0}\".format(round(cost,2)))"
      ],
      "execution_count": 0,
      "outputs": [
        {
          "output_type": "stream",
          "text": [
            "Iteration 0, cost is 108508.95\n",
            "current Model Accuracy: 29.54 %\n",
            "Iteration 100, cost is 23065.18\n",
            "current Model Accuracy: 89.0 %\n",
            "Iteration 200, cost is 19754.06\n",
            "current Model Accuracy: 90.43 %\n",
            "Iteration 300, cost is 18670.41\n",
            "current Model Accuracy: 91.0 %\n",
            "Iteration 400, cost is 17797.44\n",
            "current Model Accuracy: 91.62 %\n",
            "Iteration 500, cost is 17304.7\n",
            "current Model Accuracy: 91.4 %\n",
            "Iteration 600, cost is 16803.02\n",
            "current Model Accuracy: 91.77 %\n",
            "Iteration 700, cost is 16943.87\n",
            "current Model Accuracy: 91.58 %\n",
            "Iteration 800, cost is 16723.65\n",
            "current Model Accuracy: 91.71 %\n",
            "Iteration 900, cost is 16262.47\n",
            "current Model Accuracy: 91.9 %\n",
            "Iteration 1000, cost is 16983.64\n",
            "current Model Accuracy: 91.55 %\n",
            "Iteration 1100, cost is 16227.05\n",
            "current Model Accuracy: 91.57 %\n",
            "Iteration 1200, cost is 16520.61\n",
            "current Model Accuracy: 91.46 %\n",
            "Iteration 1300, cost is 15982.29\n",
            "current Model Accuracy: 92.03 %\n",
            "Iteration 1400, cost is 16173.08\n",
            "current Model Accuracy: 91.94 %\n",
            "Iteration 1500, cost is 15694.27\n",
            "current Model Accuracy: 92.23 %\n",
            "Iteration 1600, cost is 15541.76\n",
            "current Model Accuracy: 92.13 %\n",
            "Iteration 1700, cost is 15441.21\n",
            "current Model Accuracy: 92.03 %\n",
            "Iteration 1800, cost is 15334.17\n",
            "current Model Accuracy: 92.19 %\n",
            "Iteration 1900, cost is 15301.64\n",
            "current Model Accuracy: 92.03 %\n",
            "Iteration 2000, cost is 15306.65\n",
            "current Model Accuracy: 92.22 %\n",
            "Iteration 2100, cost is 15870.98\n",
            "current Model Accuracy: 91.43 %\n",
            "Iteration 2200, cost is 15189.67\n",
            "current Model Accuracy: 92.25 %\n",
            "Iteration 2300, cost is 15290.03\n",
            "current Model Accuracy: 91.94 %\n",
            "Iteration 2400, cost is 15128.97\n",
            "current Model Accuracy: 92.13 %\n",
            "Iteration 2500, cost is 14871.76\n",
            "current Model Accuracy: 92.35 %\n",
            "Iteration 2600, cost is 16006.98\n",
            "current Model Accuracy: 91.8 %\n",
            "Iteration 2700, cost is 15781.9\n",
            "current Model Accuracy: 91.63 %\n",
            "Iteration 2800, cost is 14991.89\n",
            "current Model Accuracy: 92.12 %\n",
            "Iteration 2900, cost is 15055.91\n",
            "current Model Accuracy: 92.04 %\n",
            "Iteration 3000, cost is 14704.08\n",
            "current Model Accuracy: 92.3 %\n",
            "Iteration 3100, cost is 14849.23\n",
            "current Model Accuracy: 92.03 %\n",
            "Iteration 3200, cost is 14808.23\n",
            "current Model Accuracy: 92.36 %\n",
            "Iteration 3300, cost is 14817.01\n",
            "current Model Accuracy: 92.06 %\n",
            "Iteration 3400, cost is 14702.18\n",
            "current Model Accuracy: 92.38 %\n",
            "Iteration 3500, cost is 14510.8\n",
            "current Model Accuracy: 92.31 %\n",
            "Iteration 3600, cost is 14634.67\n",
            "current Model Accuracy: 92.36 %\n",
            "Iteration 3700, cost is 14792.25\n",
            "current Model Accuracy: 91.89 %\n",
            "Iteration 3800, cost is 14791.15\n",
            "current Model Accuracy: 92.17 %\n",
            "Iteration 3900, cost is 14792.25\n",
            "current Model Accuracy: 92.13 %\n",
            "Iteration 4000, cost is 14810.12\n",
            "current Model Accuracy: 92.11 %\n",
            "Iteration 4100, cost is 14570.37\n",
            "current Model Accuracy: 92.32 %\n",
            "Iteration 4200, cost is 14635.03\n",
            "current Model Accuracy: 92.19 %\n",
            "Iteration 4300, cost is 14745.27\n",
            "current Model Accuracy: 92.34 %\n",
            "Iteration 4400, cost is 14386.19\n",
            "current Model Accuracy: 92.38 %\n",
            "Iteration 4500, cost is 14523.96\n",
            "current Model Accuracy: 92.08 %\n",
            "Iteration 4600, cost is 14223.5\n",
            "current Model Accuracy: 92.52 %\n",
            "Iteration 4700, cost is 14607.33\n",
            "current Model Accuracy: 92.05 %\n",
            "Iteration 4800, cost is 14393.19\n",
            "current Model Accuracy: 92.24 %\n",
            "Iteration 4900, cost is 14261.84\n",
            "current Model Accuracy: 92.27 %\n",
            "----------------------------------------------\n",
            "Final Model Accuracy: 92.14 %\n",
            "Final Cost: 14261.84\n"
          ],
          "name": "stdout"
        }
      ]
    },
    {
      "metadata": {
        "id": "tS56qWJW68oi",
        "colab_type": "code",
        "outputId": "1c9eca5f-be89-4794-c0bc-59411067c1f3",
        "colab": {
          "base_uri": "https://localhost:8080/",
          "height": 379
        }
      },
      "cell_type": "code",
      "source": [
        "plt.plot(test_accuracies, label= \"test\")\n",
        "plt.plot(train_accuracies, label= \"train\")\n",
        "plt.title(\"One-Layer NN: Accuracy\")\n",
        "plt.legend()"
      ],
      "execution_count": 0,
      "outputs": [
        {
          "output_type": "execute_result",
          "data": {
            "text/plain": [
              "<matplotlib.legend.Legend at 0x7f7029687350>"
            ]
          },
          "metadata": {
            "tags": []
          },
          "execution_count": 10
        },
        {
          "output_type": "display_data",
          "data": {
            "image/png": "[encoded data removed]",
            "text/plain": [
              "<matplotlib.figure.Figure at 0x7f704254dd50>"
            ]
          },
          "metadata": {
            "tags": []
          }
        }
      ]
    },
    {
      "metadata": {
        "id": "Sz49HAHTJByi",
        "colab_type": "code",
        "outputId": "68c93809-3f00-49b2-8662-28ad2850b88a",
        "colab": {
          "base_uri": "https://localhost:8080/",
          "height": 379
        }
      },
      "cell_type": "code",
      "source": [
        "plt.plot(costs)\n",
        "plt.title(\"One-Layer NN: Cost\")"
      ],
      "execution_count": 0,
      "outputs": [
        {
          "output_type": "execute_result",
          "data": {
            "text/plain": [
              "Text(0.5,1,u'One-Layer NN: Cost')"
            ]
          },
          "metadata": {
            "tags": []
          },
          "execution_count": 11
        },
        {
          "output_type": "display_data",
          "data": {
            "image/png": "[encoded data removed]",
            "text/plain": [
              "<matplotlib.figure.Figure at 0x7f702c6d0890>"
            ]
          },
          "metadata": {
            "tags": []
          }
        }
      ]
    },
    {
      "metadata": {
        "id": "Ea5hkpVxxiN7",
        "colab_type": "text"
      },
      "cell_type": "markdown",
      "source": [
        "---\n",
        "# 2. Add More Layers\n",
        "\n",
        "<img src=\"figs/8-comic2.png\" style=\"width: 500px;\"/>\n",
        "\n",
        "Now, let's improve the recognition accuracy by adding more layers to the neural network. The neurons in the second layer, instead of computing weighted sums of pixels will compute weighted sums of neuron outputs from the previous layer. We keep the softmax function as the activation function on the last layer, but on intermediate layers we will use the the **sigmoid** activation function. So, let's build a five-layer fully connected neural network with the following structure, and train the model with the trainging data and print out its accuracy on the test data.\n",
        "<img src=\"figs/9-five_layer.png\" style=\"width: 500px;\"/>"
      ]
    },
    {
      "metadata": {
        "id": "QlrM4Z-lxiN9",
        "colab_type": "code",
        "outputId": "efea9e0c-8464-4890-8e42-50c387e97099",
        "colab": {
          "base_uri": "https://localhost:8080/",
          "height": 748
        }
      },
      "cell_type": "code",
      "source": [
        "# TODO: Replace <FILL IN> with appropriate code\n",
        "\n",
        "# neural network with five layers\n",
        "#\n",
        "# · · · · · · · · · ·          (input data, flattened pixels)       X [batch, 784]   \n",
        "# \\x/x\\x/x\\x/x\\x/x\\x/       -- fully connected layer (sigmoid)      W1 [784, 200]      B1 [200]\n",
        "#  · · · · · · · · ·                                                Y1_hat [batch, 200]\n",
        "#   \\x/x\\x/x\\x/x\\x/         -- fully connected layer (sigmoid)      W2 [200, 100]      B2 [100]\n",
        "#    · · · · · · ·                                                  Y2_hat [batch, 100]\n",
        "#     \\x/x\\x/x\\x/           -- fully connected layer (sigmoid)      W3 [100, 60]       B3 [60]\n",
        "#      · · · · ·                                                    Y3_hat [batch, 60]\n",
        "#       \\x/x\\x/             -- fully connected layer (sigmoid)      W4 [60, 30]        B4 [30]\n",
        "#        · · ·                                                      Y4_hat [batch, 30]\n",
        "#         \\x/               -- fully connected layer (softmax)      W5 [30, 10]        B5 [10]\n",
        "#          ·                                                        Y_hat [batch, 10]\n",
        "\n",
        "# to reset the Tensorflow default graph\n",
        "reset_graph()\n",
        "\n",
        "########################################\n",
        "# define variables and placeholders\n",
        "########################################\n",
        "X = tf.placeholder(tf.float32, shape=[None, 28, 28, 1])\n",
        "Y = tf.placeholder(tf.float32, shape=[None, 10])\n",
        "\n",
        "# five layers and their number of neurons, i.e., 200, 100, 60, 30, and 10\n",
        "W1 = tf.Variable(tf.random_normal([784,200]))\n",
        "B1 = tf.Variable(tf.zeros([200]))\n",
        "\n",
        "W2 = tf.Variable(tf.random_normal([200,100]))\n",
        "B2 = tf.Variable(tf.zeros([100]))\n",
        "\n",
        "W3 = tf.Variable(tf.random_normal([100,60]))\n",
        "B3 = tf.Variable(tf.zeros([60]))\n",
        "\n",
        "W4 = tf.Variable(tf.random_normal([60,30]))\n",
        "B4 = tf.Variable(tf.zeros([30]))\n",
        "\n",
        "W5 = tf.Variable(tf.random_normal([30,10]))\n",
        "B5 = tf.Variable(tf.zeros([10]))\n",
        "\n",
        "########################################\n",
        "# build the model\n",
        "########################################\n",
        "XX = tf.reshape(X,([-1,784]))\n",
        "\n",
        "Y1_hat = tf.nn.sigmoid(tf.matmul(XX,W1) + B1)\n",
        "Y2_hat = tf.nn.sigmoid(tf.matmul(Y1_hat,W2) + B2)\n",
        "Y3_hat = tf.nn.sigmoid(tf.matmul(Y2_hat,W3) + B3)\n",
        "Y4_hat = tf.nn.sigmoid(tf.matmul(Y3_hat,W4) + B4)\n",
        "Y_hat = tf.nn.softmax(tf.matmul(Y4_hat,W5) + B5)\n",
        "\n",
        "########################################\n",
        "# define the cost function\n",
        "########################################\n",
        "cross_entropy = -tf.reduce_sum(Y*tf.log(Y_hat))\n",
        "\n",
        "########################################\n",
        "# define the optimizer\n",
        "########################################\n",
        "learning_rate = 0.005\n",
        "optimizer = tf.train.GradientDescentOptimizer(learning_rate)\n",
        "train_step = optimizer.minimize(cross_entropy)\n",
        "\n",
        "########################################\n",
        "# execute the model\n",
        "########################################\n",
        "init = tf.global_variables_initializer()\n",
        "train_accuracies = []\n",
        "test_accuracies = []\n",
        "costs = []\n",
        "\n",
        "correct_prediction = tf.equal(tf.argmax(Y_hat,1), tf.argmax(Y,1))\n",
        "accuracy = tf.reduce_mean(tf.cast(correct_prediction, \"float\"))\n",
        "  \n",
        "n_epochs = 5000\n",
        "with tf.Session() as sess:\n",
        "    sess.run(init)\n",
        "    for n in range(n_epochs):\n",
        "      batch_xs, batch_ys = mnist.train.next_batch(100)\n",
        "      sess.run(train_step, {XX: batch_xs, Y: batch_ys})\n",
        "      \n",
        "      if n % 250 == 0:\n",
        "        cost, train_accuracy = sess.run([cross_entropy, accuracy], feed_dict={XX: mnist.train.images, Y: mnist.train.labels})\n",
        "        print(\"Iteration {0}, cost is {1}\".format(n, round(cost,2)))\n",
        "        test_accuracy = sess.run(accuracy, feed_dict={XX: mnist.test.images, Y: mnist.test.labels})\n",
        "        print(\"current Model Accuracy: {0} %\".format(round(test_accuracy*100, 2)))\n",
        "        train_accuracies.append(train_accuracy)\n",
        "        test_accuracies.append(test_accuracy)\n",
        "        costs.append(cost)\n",
        "               \n",
        "    print(\"----------------------------------------------\")\n",
        "    final_accuracy = sess.run(accuracy, feed_dict={XX: mnist.test.images, Y: mnist.test.labels})\n",
        "    print(\"Final Model Accuracy: {0} %\".format(round(final_accuracy*100, 2)))\n",
        "    print(\"Final Cost: {0}\".format(round(cost,2)))"
      ],
      "execution_count": 0,
      "outputs": [
        {
          "output_type": "stream",
          "text": [
            "Iteration 0, cost is 228925.08\n",
            "current Model Accuracy: 10.29 %\n",
            "Iteration 250, cost is 50590.21\n",
            "current Model Accuracy: 70.69 %\n",
            "Iteration 500, cost is 34630.52\n",
            "current Model Accuracy: 80.53 %\n",
            "Iteration 750, cost is 28158.32\n",
            "current Model Accuracy: 84.03 %\n",
            "Iteration 1000, cost is 24054.4\n",
            "current Model Accuracy: 86.14 %\n",
            "Iteration 1250, cost is 21668.05\n",
            "current Model Accuracy: 87.1 %\n",
            "Iteration 1500, cost is 20555.13\n",
            "current Model Accuracy: 87.5 %\n",
            "Iteration 1750, cost is 17830.66\n",
            "current Model Accuracy: 88.7 %\n",
            "Iteration 2000, cost is 16755.77\n",
            "current Model Accuracy: 89.37 %\n",
            "Iteration 2250, cost is 15780.03\n",
            "current Model Accuracy: 89.89 %\n",
            "Iteration 2500, cost is 14556.1\n",
            "current Model Accuracy: 90.19 %\n",
            "Iteration 2750, cost is 13883.05\n",
            "current Model Accuracy: 90.41 %\n",
            "Iteration 3000, cost is 13036.91\n",
            "current Model Accuracy: 90.7 %\n",
            "Iteration 3250, cost is 12405.14\n",
            "current Model Accuracy: 90.87 %\n",
            "Iteration 3500, cost is 11852.19\n",
            "current Model Accuracy: 90.96 %\n",
            "Iteration 3750, cost is 11911.73\n",
            "current Model Accuracy: 90.76 %\n",
            "Iteration 4000, cost is 10781.61\n",
            "current Model Accuracy: 91.3 %\n",
            "Iteration 4250, cost is 10261.49\n",
            "current Model Accuracy: 91.41 %\n",
            "Iteration 4500, cost is 10024.04\n",
            "current Model Accuracy: 91.6 %\n",
            "Iteration 4750, cost is 9602.84\n",
            "current Model Accuracy: 91.68 %\n",
            "----------------------------------------------\n",
            "Final Model Accuracy: 91.86 %\n",
            "Final Cost: 9602.84\n"
          ],
          "name": "stdout"
        }
      ]
    },
    {
      "metadata": {
        "id": "yZ064fzDAPrF",
        "colab_type": "code",
        "outputId": "53f34689-fb67-4ba3-d120-fc64ef664056",
        "colab": {
          "base_uri": "https://localhost:8080/",
          "height": 379
        }
      },
      "cell_type": "code",
      "source": [
        "plt.plot(test_accuracies, label= \"test\")\n",
        "plt.plot(train_accuracies, label = \"train\")\n",
        "plt.title(\"Multi-layer NN - accuracy\")\n",
        "plt.legend()"
      ],
      "execution_count": 0,
      "outputs": [
        {
          "output_type": "execute_result",
          "data": {
            "text/plain": [
              "<matplotlib.legend.Legend at 0x7f70263ef550>"
            ]
          },
          "metadata": {
            "tags": []
          },
          "execution_count": 13
        },
        {
          "output_type": "display_data",
          "data": {
            "image/png": "[encoded data removed]",
            "text/plain": [
              "<matplotlib.figure.Figure at 0x7f7027558110>"
            ]
          },
          "metadata": {
            "tags": []
          }
        }
      ]
    },
    {
      "metadata": {
        "id": "3nEK-9GKJP1Z",
        "colab_type": "code",
        "outputId": "e5eb64a4-6355-4012-b971-91b737f5a6c7",
        "colab": {
          "base_uri": "https://localhost:8080/",
          "height": 379
        }
      },
      "cell_type": "code",
      "source": [
        "plt.plot(costs)\n",
        "plt.title(\"Multi-Layer NN: Cost\")"
      ],
      "execution_count": 0,
      "outputs": [
        {
          "output_type": "execute_result",
          "data": {
            "text/plain": [
              "Text(0.5,1,u'Multi-Layer NN: Cost')"
            ]
          },
          "metadata": {
            "tags": []
          },
          "execution_count": 14
        },
        {
          "output_type": "display_data",
          "data": {
            "image/png": "[encoded data removed]",
            "text/plain": [
              "<matplotlib.figure.Figure at 0x7f702638e890>"
            ]
          },
          "metadata": {
            "tags": []
          }
        }
      ]
    },
    {
      "metadata": {
        "id": "_Qk6aD3LxiOA",
        "colab_type": "text"
      },
      "cell_type": "markdown",
      "source": [
        "---\n",
        "# 3. Special Care for Deep Networks\n",
        "As layers were added, neural networks tended to converge with more difficulties. For example, the accuracy could stuck at 0.1. Here, we want to apply some updates to the network we built in the previous part to improve its performance. \n",
        "\n",
        "### ReLU Activation Function\n",
        "<img src=\"figs/10-comic3.png\" style=\"width: 500px;\"/>\n",
        "The sigmoid activation function is actually quite problematic in deep networks. It squashes all values between 0 and 1 and when you do so repeatedly, neuron outputs and their gradients can vanish entirely. An alternative activation function is **ReLU** that shows better performance compare to sigmoid. It looks like as below:\n",
        "<img src=\"figs/11-relu.png\" style=\"width: 300px;\"/>\n",
        "\n",
        "### A Better Optimizer\n",
        "In very high dimensional spaces like here, **saddle points** are frequent. These are points that are not local minima, but where the gradient is nevertheless zero and the gradient descent optimizer stays stuck there. One possible solution to tackle this probelm is to use better optimizers, such as Adam optimizer `tf.train.AdamOptimizer`.\n",
        "\n",
        "### Random Initialisations\n",
        "When working with ReLUs, the best practice is to initialise bias values to small positive values, so that neurons operate in the non-zero range of the ReLU initially.\n",
        "\n",
        "### Learning Rate\n",
        "<img src=\"figs/12-comic4.png\" style=\"width: 500px;\"/>\n",
        "With two, three or four intermediate layers, you can now get close to 98% accuracy, if you push the iterations to 5000 or beyond. But, the results are not very consistent, and the curves jump up and down by a whole percent. A good solution is to start fast and decay the learning rate exponentially from $0.005$ to $0.0001$ for example. In order to pass a different learning rate to the `AdamOptimizer` at each iteration, you will need to define a new placeholder and feed it a new value at each iteration through `feed_dict`. Here is the formula for exponential decay: $learning\\_rate = lr\\_min + (lr\\_max - lr\\_min) * e^{\\frac{-i}{2000}}$, where $i$ is the iteration number.\n",
        "\n",
        "### NaN?\n",
        "In the network you built in the last section, you might see accuracy curve crashes and the console outputs NaN for the cross-entropy. It may happen, because you are attempting to compute a $log(0)$, which is indeed Not A Number (NaN). Remember that the cross-entropy involves a log, computed on the output of the softmax layer. Since softmax is essentially an exponential, which is never zero, we should be fine, but with 32 bit precision floating-point operations, exp(-100) is already a genuine zero. TensorFlow has a handy function that computes the softmax and the cross-entropy in a single step, implemented in a numerically stable way. To use it, you will need to separate the weighted sum plus bias on the last layer, before softmax is applied and then give it with the true values to the function `tf.nn.softmax_cross_entropy_with_logits`.\n",
        "\n",
        "In the code below, apply the following changes and show their impact on the accuracy of the model on training data, as well as the test data:\n",
        "* Replace the sigmoid activation function with ReLU\n",
        "* Use the Adam optimizer\n",
        "* Initialize weights with small random values between -0.2 and +0.2, and make sure biases are initialised with small positive values, for example 0.1\n",
        "* Update the learning rate in different iterations. Start fast and decay the learning rate exponentially from $0.005$ to $0.0001$, i.e., \n",
        "```\n",
        "max_learning_rate = 0.005\n",
        "min_learning_rate = 0.0001\n",
        "decay_speed = 2000.0\n",
        "```\n",
        "* Use `tf.nn.softmax_cross_entropy_with_logits` to prevent getting NaN in output."
      ]
    },
    {
      "metadata": {
        "id": "xCkRKxWQxiOB",
        "colab_type": "code",
        "outputId": "08d4c570-765b-4ee1-b9a7-3747f2b7d447",
        "colab": {
          "base_uri": "https://localhost:8080/",
          "height": 773
        }
      },
      "cell_type": "code",
      "source": [
        "# TODO: Replace <FILL IN> with appropriate code\n",
        "\n",
        "# neural network with 5 layers\n",
        "#\n",
        "# · · · · · · · · · ·          (input data, flattened pixels)       X [batch, 784]   \n",
        "# \\x/x\\x/x\\x/x\\x/x\\x/       -- fully connected layer (sigmoid)      W1 [784, 200]      B1[200]\n",
        "#  · · · · · · · · ·                                                Y1_hat [batch, 200]\n",
        "#   \\x/x\\x/x\\x/x\\x/         -- fully connected layer (sigmoid)      W2 [200, 100]      B2[100]\n",
        "#    · · · · · · ·                                                  Y2_hat [batch, 100]\n",
        "#     \\x/x\\x/x\\x/           -- fully connected layer (sigmoid)      W3 [100, 60]       B3[60]\n",
        "#      · · · · ·                                                    Y3_hat [batch, 60]\n",
        "#       \\x/x\\x/             -- fully connected layer (sigmoid)      W4 [60, 30]        B4[30]\n",
        "#        · · ·                                                      Y4_hat [batch, 30]\n",
        "#         \\x/               -- fully connected layer (softmax)      W5 [30, 10]        B5[10]\n",
        "#          ·                                                        Y_hat [batch, 10]\n",
        "\n",
        "# to reset the Tensorflow default graph\n",
        "reset_graph()\n",
        "\n",
        "# for useing the exponential function \n",
        "import math\n",
        "\n",
        "########################################\n",
        "# define variables and placeholders\n",
        "########################################\n",
        "X = tf.placeholder(tf.float32, shape=[None, 28, 28, 1])\n",
        "Y = tf.placeholder(tf.float32, shape=[None, 10])\n",
        "\n",
        "# variable learning rate\n",
        "learning_rate = tf.placeholder(tf.float32)\n",
        "step = tf.placeholder(tf.float32)\n",
        "\n",
        "# five layers and their number of neurons, i.e., 200, 100, 60, 30, and 10\n",
        "# when using RELUs, make sure biases are initialised with small positive values, for example 0.1\n",
        "W1 = tf.Variable(tf.truncated_normal([784, 200], stddev=0.2))\n",
        "B1 = tf.Variable(tf.ones([200])/10)\n",
        "\n",
        "W2 = tf.Variable(tf.truncated_normal([200, 100], stddev=0.2))\n",
        "B2 = tf.Variable(tf.ones([100])/10)\n",
        "\n",
        "W3 = tf.Variable(tf.truncated_normal([100, 60], stddev=0.2))\n",
        "B3 = tf.Variable(tf.ones([60])/10)\n",
        "\n",
        "W4 = tf.Variable(tf.truncated_normal([60, 30], stddev=0.2))\n",
        "B4 = tf.Variable(tf.ones([30])/10)\n",
        "\n",
        "W5 = tf.Variable(tf.truncated_normal([30, 10], stddev=0.2))\n",
        "B5 = tf.Variable(tf.ones([10])/10)\n",
        "\n",
        "########################################\n",
        "# build the model\n",
        "########################################\n",
        "XX = tf.reshape(X,([-1,784]))\n",
        "\n",
        "Y1_hat = tf.nn.relu(tf.matmul(XX,W1) + B1)\n",
        "Y2_hat = tf.nn.relu(tf.matmul(Y1_hat,W2) + B2)\n",
        "Y3_hat = tf.nn.relu(tf.matmul(Y2_hat,W3) + B3)\n",
        "Y4_hat = tf.nn.relu(tf.matmul(Y3_hat,W4) + B4)\n",
        "Ylogits = tf.matmul(Y4_hat,W5) + B5\n",
        "Y_hat = tf.nn.softmax(Ylogits)\n",
        "\n",
        "########################################\n",
        "# defining the cost function\n",
        "########################################\n",
        "cross_entropy = tf.nn.softmax_cross_entropy_with_logits(logits=Ylogits, labels=Y)\n",
        "cross_entropy = tf.reduce_mean(cross_entropy) * 100\n",
        "\n",
        "########################################\n",
        "# define learning rate\n",
        "########################################\n",
        "max_learning_rate = 0.005\n",
        "min_learning_rate = 0.0001\n",
        "decay_speed = 2000.0\n",
        "learning_rate = min_learning_rate + tf.train.exponential_decay(max_learning_rate, step, decay_speed, 1/math.e)\n",
        "\n",
        "########################################\n",
        "# define the optimizer\n",
        "########################################\n",
        "optimizer = tf.train.AdamOptimizer(learning_rate)\n",
        "train_step = optimizer.minimize(cross_entropy)\n",
        "\n",
        "########################################\n",
        "# execute the model\n",
        "########################################\n",
        "init = tf.global_variables_initializer()\n",
        "train_accuracy = []\n",
        "test_accuracies = []\n",
        "train_costs = []\n",
        "test_costs = []\n",
        "lrs = []\n",
        "\n",
        "#accuracy\n",
        "correct_prediction = tf.equal(tf.argmax(Y_hat,1), tf.argmax(Y,1))\n",
        "accuracy = tf.reduce_mean(tf.cast(correct_prediction, \"float\"))\n",
        "\n",
        "#run model\n",
        "n_epochs = 5000\n",
        "with tf.Session() as sess:\n",
        "    sess.run(init)\n",
        "    \n",
        "    for n in range(n_epochs):\n",
        "      \n",
        "      # training on batches of 100 images with 100 labels\n",
        "      batch_xs, batch_ys = mnist.train.next_batch(100)     \n",
        "      sess.run(train_step, {XX: batch_xs, Y: batch_ys, step: n})\n",
        "      \n",
        "      if n % 250 == 0:\n",
        "        train_cost, lr, train_accuracy = sess.run([cross_entropy,learning_rate, accuracy], feed_dict={XX: mnist.train.images, Y: mnist.train.labels, step: n})\n",
        "        print(\"Iteration {0}, cost is {1}\".format(n, round(train_cost,2)))\n",
        "        test_cost, test_accuracy = sess.run([cross_entropy,accuracy], feed_dict={XX: mnist.test.images, Y: mnist.test.labels, step: n})\n",
        "        print(\"current Model Accuracy: {0} %\".format(round(test_accuracy*100, 2)))\n",
        "        train_accuracies.append(train_accuracy)\n",
        "        test_accuracies.append(test_accuracy)\n",
        "        train_costs.append(train_cost)\n",
        "        test_costs.append(test_cost)\n",
        "        lrs.append(lr)\n",
        "               \n",
        "    print(\"----------------------------------------------\")\n",
        "    print(\"Final Learning Rate:\")\n",
        "    print(round(lr,5))\n",
        "    final_accuracy = sess.run(accuracy, feed_dict={XX: mnist.test.images, Y: mnist.test.labels, step: n})\n",
        "    print(\"Final Model Accuracy:\")\n",
        "    print(round(final_accuracy*100, 2))"
      ],
      "execution_count": 0,
      "outputs": [
        {
          "output_type": "stream",
          "text": [
            "Iteration 0, cost is 260.71\n",
            "current Model Accuracy: 15.83 %\n",
            "Iteration 250, cost is 17.25\n",
            "current Model Accuracy: 94.49 %\n",
            "Iteration 500, cost is 11.96\n",
            "current Model Accuracy: 95.94 %\n",
            "Iteration 750, cost is 9.25\n",
            "current Model Accuracy: 96.35 %\n",
            "Iteration 1000, cost is 7.41\n",
            "current Model Accuracy: 96.81 %\n",
            "Iteration 1250, cost is 5.56\n",
            "current Model Accuracy: 97.31 %\n",
            "Iteration 1500, cost is 5.99\n",
            "current Model Accuracy: 96.91 %\n",
            "Iteration 1750, cost is 4.21\n",
            "current Model Accuracy: 97.28 %\n",
            "Iteration 2000, cost is 3.61\n",
            "current Model Accuracy: 97.22 %\n",
            "Iteration 2250, cost is 2.52\n",
            "current Model Accuracy: 97.59 %\n",
            "Iteration 2500, cost is 2.2\n",
            "current Model Accuracy: 97.57 %\n",
            "Iteration 2750, cost is 2.01\n",
            "current Model Accuracy: 97.63 %\n",
            "Iteration 3000, cost is 1.2\n",
            "current Model Accuracy: 97.78 %\n",
            "Iteration 3250, cost is 1.04\n",
            "current Model Accuracy: 97.91 %\n",
            "Iteration 3500, cost is 0.81\n",
            "current Model Accuracy: 97.67 %\n",
            "Iteration 3750, cost is 0.67\n",
            "current Model Accuracy: 97.96 %\n",
            "Iteration 4000, cost is 0.42\n",
            "current Model Accuracy: 97.92 %\n",
            "Iteration 4250, cost is 0.35\n",
            "current Model Accuracy: 98.06 %\n",
            "Iteration 4500, cost is 0.26\n",
            "current Model Accuracy: 97.99 %\n",
            "Iteration 4750, cost is 0.21\n",
            "current Model Accuracy: 98.03 %\n",
            "----------------------------------------------\n",
            "Final Learning Rate:\n",
            "0.00057\n",
            "Final Model Accuracy:\n",
            "98.02\n"
          ],
          "name": "stdout"
        }
      ]
    },
    {
      "metadata": {
        "id": "UsiwLO6_CDTD",
        "colab_type": "code",
        "outputId": "31e3088e-8fe3-4537-9339-2ae3cd567f1b",
        "colab": {
          "base_uri": "https://localhost:8080/",
          "height": 379
        }
      },
      "cell_type": "code",
      "source": [
        "plt.plot(test_accuracies, label= \"test\")\n",
        "plt.plot(train_accuracies, label = \"train\")\n",
        "plt.title(\"Multi-layer NN with ReLU - Accuracy\")\n",
        "plt.legend()"
      ],
      "execution_count": 0,
      "outputs": [
        {
          "output_type": "execute_result",
          "data": {
            "text/plain": [
              "<matplotlib.legend.Legend at 0x7f70263749d0>"
            ]
          },
          "metadata": {
            "tags": []
          },
          "execution_count": 16
        },
        {
          "output_type": "display_data",
          "data": {
            "image/png": "[encoded data removed]",
            "text/plain": [
              "<matplotlib.figure.Figure at 0x7f7027434990>"
            ]
          },
          "metadata": {
            "tags": []
          }
        }
      ]
    },
    {
      "metadata": {
        "id": "NjrOBeUBDGJy",
        "colab_type": "code",
        "outputId": "a22018ce-31d6-44d3-db8e-ecb892d50a88",
        "colab": {
          "base_uri": "https://localhost:8080/",
          "height": 379
        }
      },
      "cell_type": "code",
      "source": [
        "plt.plot(lrs)\n",
        "plt.title(\"Multi-layer NN with ReLU - Learning rate\")"
      ],
      "execution_count": 0,
      "outputs": [
        {
          "output_type": "execute_result",
          "data": {
            "text/plain": [
              "Text(0.5,1,u'Multi-layer NN with ReLU - Learning rate')"
            ]
          },
          "metadata": {
            "tags": []
          },
          "execution_count": 17
        },
        {
          "output_type": "display_data",
          "data": {
            "image/png": "[encoded data removed]",
            "text/plain": [
              "<matplotlib.figure.Figure at 0x7f7025837dd0>"
            ]
          },
          "metadata": {
            "tags": []
          }
        }
      ]
    },
    {
      "metadata": {
        "id": "gftqjvqGL81l",
        "colab_type": "code",
        "outputId": "2bcdc4a5-4eba-45b2-c6ca-9d13119ff347",
        "colab": {
          "base_uri": "https://localhost:8080/",
          "height": 379
        }
      },
      "cell_type": "code",
      "source": [
        "plt.plot(test_costs, label= \"test\")\n",
        "plt.plot(train_costs, label = \"train\")\n",
        "plt.title(\"Multi-layer NN with ReLU - Cost\")\n",
        "plt.legend()"
      ],
      "execution_count": 0,
      "outputs": [
        {
          "output_type": "execute_result",
          "data": {
            "text/plain": [
              "<matplotlib.legend.Legend at 0x7f70257b0550>"
            ]
          },
          "metadata": {
            "tags": []
          },
          "execution_count": 18
        },
        {
          "output_type": "display_data",
          "data": {
            "image/png": "[encoded data removed]",
            "text/plain": [
              "<matplotlib.figure.Figure at 0x7f70257f43d0>"
            ]
          },
          "metadata": {
            "tags": []
          }
        }
      ]
    },
    {
      "metadata": {
        "id": "OmdX_MtKxiOF",
        "colab_type": "text"
      },
      "cell_type": "markdown",
      "source": [
        "---\n",
        "# 4. Overfitting and Dropout\n",
        "<img src=\"figs/13-comic5.png\" style=\"width: 500px;\"/>\n",
        "You will have noticed that cross-entropy curves for test and training data start disconnecting after a couple thousand iterations. The learning algorithm works on training data only and optimises the training cross-entropy accordingly. It never sees test data so it is not surprising that after a while its work no longer has an effect on the test cross-entropy which stops dropping and sometimes even bounces back up. \n",
        "<img src=\"figs/14-overfit.png\" style=\"width: 500px;\"/>\n",
        "This disconnect is usually labeled **overfitting** and when you see it, you can try to apply a regularisation technique called **dropout**. In dropout, at each training iteration, you drop random neurons from the network. You choose a probability `pkeep` for a neuron to be kept, usually between 50% and 75%, and then at each iteration of the training loop, you randomly remove neurons with all their weights and biases. Different neurons will be dropped at each iteration. When testing the performance of your network of course you put all the neurons back (`pkeep = 1`).\n",
        "<img src=\"figs/15-dropout.png\" style=\"width: 500px;\"/>\n",
        "TensorFlow offers a dropout function to be used on the outputs of a layer of neurons. It randomly zeroes-out some of the outputs and boosts the remaining ones by `1 / pkeep`. You can add dropout after each intermediate layer in the network now. \n",
        "\n",
        "In the following code, use the dropout between each layer during the training, and set the probability `pkeep` once to $50%$ and another time to $75%$ and compare their results."
      ]
    },
    {
      "metadata": {
        "id": "RG08R6xcxiOF",
        "colab_type": "code",
        "outputId": "aaff278a-c9de-4a40-e2f2-ff6d530822ae",
        "colab": {
          "base_uri": "https://localhost:8080/",
          "height": 1615
        }
      },
      "cell_type": "code",
      "source": [
        "# TODO: Replace <FILL IN> with appropriate code\n",
        "\n",
        "# neural network with 5 layers\n",
        "#\n",
        "# · · · · · · · · · ·          (input data, flattened pixels)       X [batch, 784]   \n",
        "# \\x/x\\x/x\\x/x\\x/x\\x/       -- fully connected layer (sigmoid)      W1 [784, 200]      B1[200]\n",
        "#  · · · · · · · · ·                                                Y1_hat [batch, 200]\n",
        "#   \\x/x\\x/x\\x/x\\x/         -- fully connected layer (sigmoid)      W2 [200, 100]      B2[100]\n",
        "#    · · · · · · ·                                                  Y2_hat [batch, 100]\n",
        "#     \\x/x\\x/x\\x/           -- fully connected layer (sigmoid)      W3 [100, 60]       B3[60]\n",
        "#      · · · · ·                                                    Y3_hat [batch, 60]\n",
        "#       \\x/x\\x/             -- fully connected layer (sigmoid)      W4 [60, 30]        B4[30]\n",
        "#        · · ·                                                      Y4_hat [batch, 30]\n",
        "#         \\x/               -- fully connected layer (softmax)      W5 [30, 10]        B5[10]\n",
        "#          ·                                                        Y_hat [batch, 10]\n",
        "\n",
        "# to reset the Tensorflow default graph\n",
        "reset_graph()\n",
        "\n",
        "########################################\n",
        "# define variables and placeholders\n",
        "########################################\n",
        "X = tf.placeholder(tf.float32, shape=[None, 28, 28, 1])\n",
        "Y = tf.placeholder(tf.float32, shape=[None, 10])\n",
        "\n",
        "# variable learning rate\n",
        "learning_rate = tf.placeholder(tf.float32)\n",
        "step = tf.placeholder(tf.float32)\n",
        "\n",
        "# probability of keeping a node during dropout = 1.0 at test time (no dropout) and 0.75 at training time\n",
        "pkeep = tf.placeholder(tf.float32, shape=[])\n",
        "\n",
        "# five layers and their number of neurons, i.e., 200, 100, 60, 30, and 10\n",
        "# when using RELUs, make sure biases are initialised with small positive values, for example 0.1\n",
        "W1 = tf.Variable(tf.truncated_normal([784, 200], stddev=0.2))\n",
        "B1 = tf.Variable(tf.ones([200])/10)\n",
        "\n",
        "W2 = tf.Variable(tf.truncated_normal([200, 100], stddev=0.2))\n",
        "B2 = tf.Variable(tf.ones([100])/10)\n",
        "\n",
        "W3 = tf.Variable(tf.truncated_normal([100, 60], stddev=0.2))\n",
        "B3 = tf.Variable(tf.ones([60])/10)\n",
        "\n",
        "W4 = tf.Variable(tf.truncated_normal([60, 30], stddev=0.2))\n",
        "B4 = tf.Variable(tf.ones([30])/10)\n",
        "\n",
        "W5 = tf.Variable(tf.truncated_normal([30, 10], stddev=0.2))\n",
        "B5 = tf.Variable(tf.ones([10])/10)\n",
        "\n",
        "########################################\n",
        "# build the model\n",
        "########################################\n",
        "XX = tf.reshape(X,([-1,784]))\n",
        "\n",
        "Y1_hat = tf.nn.relu(tf.matmul(XX,W1) + B1)\n",
        "Y1_hat_dropout = tf.nn.dropout(Y1_hat, keep_prob=pkeep)\n",
        "Y2_hat_dropout = tf.nn.dropout(tf.nn.relu(tf.matmul(Y1_hat_dropout, W2) + B2), keep_prob=pkeep)\n",
        "Y3_hat_dropout = tf.nn.dropout(tf.nn.relu(tf.matmul(Y2_hat_dropout, W3) + B3), keep_prob=pkeep)\n",
        "Y4_hat_dropout = tf.nn.dropout(tf.nn.relu(tf.matmul(Y3_hat_dropout, W4) + B4), keep_prob=pkeep)\n",
        "Ylogits = tf.matmul(Y4_hat_dropout,W5) + B5\n",
        "Y_hat = tf.nn.softmax(Ylogits)\n",
        "\n",
        "########################################\n",
        "# define the cost function\n",
        "########################################\n",
        "cross_entropy = tf.nn.softmax_cross_entropy_with_logits(logits=Ylogits, labels=Y)\n",
        "cross_entropy = tf.reduce_mean(cross_entropy) * 100\n",
        "\n",
        "########################################\n",
        "# define learning rate\n",
        "########################################\n",
        "max_learning_rate = 0.005\n",
        "min_learning_rate = 0.0001\n",
        "decay_speed = 2000.0\n",
        "learning_rate = min_learning_rate + tf.train.exponential_decay(max_learning_rate, step, decay_speed, 1/math.e)\n",
        "\n",
        "########################################\n",
        "# define the optimizer\n",
        "########################################\n",
        "optimizer = tf.train.AdamOptimizer(learning_rate = learning_rate)\n",
        "train_step = optimizer.minimize(cross_entropy)\n",
        "\n",
        "########################################\n",
        "# execute the model\n",
        "########################################\n",
        "init = tf.global_variables_initializer()\n",
        "\n",
        "test_accuracies = {'0.5': [],'0.75': []}\n",
        "costs = {'0.5': [], '0.75': []}\n",
        "lrs = {'0.5': [], '0.75': []}\n",
        "\n",
        "correct_prediction = tf.equal(tf.argmax(Y_hat,1), tf.argmax(Y,1))\n",
        "accuracy = tf.reduce_mean(tf.cast(correct_prediction, \"float\"))\n",
        "\n",
        "n_epochs = 5000\n",
        "for dropout in [0.5, 0.75]:\n",
        "  print(\"----------------------------------------------\")\n",
        "  print(\"DROPOUT APPLIED:\")\n",
        "  print(dropout)\n",
        "  \n",
        "  with tf.Session() as sess:\n",
        "    sess.run(init)\n",
        "    \n",
        "    for n in range(n_epochs):\n",
        "      batch_xs, batch_ys = mnist.train.next_batch(100)\n",
        "        \n",
        "      sess.run(train_step, {XX: batch_xs, Y: batch_ys, step:n, pkeep: dropout})\n",
        "      \n",
        "      #get test data accuracy\n",
        "      if n % 250 == 0:\n",
        "        cost, lr = sess.run([cross_entropy,learning_rate], feed_dict={XX: mnist.train.images, Y: mnist.train.labels, step:n, pkeep: 1.0})\n",
        "        print(\"Iteration {0}, cost is {1}\".format(n, round(cost,2)))\n",
        "        test_accuracy = sess.run(accuracy, feed_dict={XX: mnist.test.images, Y: mnist.test.labels, step:n, pkeep: 1.0})\n",
        "        print(\"current Model Accuracy: {0} %\".format(round(test_accuracy*100, 2)))\n",
        "        test_accuracies[str(dropout)].append(test_accuracy)\n",
        "        costs[str(dropout)].append(cost)\n",
        "        lrs[str(dropout)].append(lr)\n",
        "               \n",
        "    print(\"----------------------------------------------\")\n",
        "    final_accuracy = sess.run(accuracy, feed_dict={XX: mnist.test.images, Y: mnist.test.labels, step:n, pkeep: 1.0})\n",
        "    print(\"Final Model Accuracy:\")\n",
        "    print(round(final_accuracy*100, 2))\n",
        "    print(\"----------------------------------------------\")"
      ],
      "execution_count": 0,
      "outputs": [
        {
          "output_type": "stream",
          "text": [
            "----------------------------------------------\n",
            "DROPOUT APPLIED:\n",
            "0.5\n",
            "Iteration 0, cost is 322.09\n",
            "current Model Accuracy: 10.82 %\n",
            "Iteration 250, cost is 128.69\n",
            "current Model Accuracy: 48.55 %\n",
            "Iteration 500, cost is 73.3\n",
            "current Model Accuracy: 80.31 %\n",
            "Iteration 750, cost is 48.57\n",
            "current Model Accuracy: 89.3 %\n",
            "Iteration 1000, cost is 37.84\n",
            "current Model Accuracy: 91.39 %\n",
            "Iteration 1250, cost is 33.05\n",
            "current Model Accuracy: 92.15 %\n",
            "Iteration 1500, cost is 29.8\n",
            "current Model Accuracy: 92.96 %\n",
            "Iteration 1750, cost is 27.1\n",
            "current Model Accuracy: 92.79 %\n",
            "Iteration 2000, cost is 25.12\n",
            "current Model Accuracy: 93.62 %\n",
            "Iteration 2250, cost is 24.85\n",
            "current Model Accuracy: 93.86 %\n",
            "Iteration 2500, cost is 23.11\n",
            "current Model Accuracy: 93.7 %\n",
            "Iteration 2750, cost is 20.99\n",
            "current Model Accuracy: 94.3 %\n",
            "Iteration 3000, cost is 20.6\n",
            "current Model Accuracy: 94.43 %\n",
            "Iteration 3250, cost is 19.41\n",
            "current Model Accuracy: 94.69 %\n",
            "Iteration 3500, cost is 19.25\n",
            "current Model Accuracy: 94.81 %\n",
            "Iteration 3750, cost is 18.18\n",
            "current Model Accuracy: 94.92 %\n",
            "Iteration 4000, cost is 17.97\n",
            "current Model Accuracy: 94.88 %\n",
            "Iteration 4250, cost is 17.39\n",
            "current Model Accuracy: 94.91 %\n",
            "Iteration 4500, cost is 16.84\n",
            "current Model Accuracy: 95.13 %\n",
            "Iteration 4750, cost is 16.1\n",
            "current Model Accuracy: 95.38 %\n",
            "----------------------------------------------\n",
            "Final Model Accuracy:\n",
            "95.29\n",
            "----------------------------------------------\n",
            "----------------------------------------------\n",
            "DROPOUT APPLIED:\n",
            "0.75\n",
            "Iteration 0, cost is 273.91\n",
            "current Model Accuracy: 10.23 %\n",
            "Iteration 250, cost is 29.25\n",
            "current Model Accuracy: 92.28 %\n",
            "Iteration 500, cost is 21.17\n",
            "current Model Accuracy: 94.29 %\n",
            "Iteration 750, cost is 17.24\n",
            "current Model Accuracy: 94.81 %\n",
            "Iteration 1000, cost is 14.1\n",
            "current Model Accuracy: 95.62 %\n",
            "Iteration 1250, cost is 11.33\n",
            "current Model Accuracy: 96.42 %\n",
            "Iteration 1500, cost is 10.5\n",
            "current Model Accuracy: 96.54 %\n",
            "Iteration 1750, cost is 9.05\n",
            "current Model Accuracy: 96.67 %\n",
            "Iteration 2000, cost is 7.91\n",
            "current Model Accuracy: 97.03 %\n",
            "Iteration 2250, cost is 7.1\n",
            "current Model Accuracy: 97.04 %\n",
            "Iteration 2500, cost is 6.84\n",
            "current Model Accuracy: 97.22 %\n",
            "Iteration 2750, cost is 5.84\n",
            "current Model Accuracy: 97.3 %\n",
            "Iteration 3000, cost is 6.08\n",
            "current Model Accuracy: 97.24 %\n",
            "Iteration 3250, cost is 5.42\n",
            "current Model Accuracy: 97.61 %\n",
            "Iteration 3500, cost is 4.89\n",
            "current Model Accuracy: 97.51 %\n",
            "Iteration 3750, cost is 4.53\n",
            "current Model Accuracy: 97.66 %\n",
            "Iteration 4000, cost is 4.24\n",
            "current Model Accuracy: 97.66 %\n",
            "Iteration 4250, cost is 3.93\n",
            "current Model Accuracy: 97.63 %\n",
            "Iteration 4500, cost is 3.72\n",
            "current Model Accuracy: 97.73 %\n",
            "Iteration 4750, cost is 3.58\n",
            "current Model Accuracy: 97.74 %\n",
            "----------------------------------------------\n",
            "Final Model Accuracy:\n",
            "97.67\n",
            "----------------------------------------------\n"
          ],
          "name": "stdout"
        }
      ]
    },
    {
      "metadata": {
        "id": "K19wANMYIXUI",
        "colab_type": "code",
        "outputId": "0bc78fc2-2c31-403d-b2dd-ca637e8312eb",
        "colab": {
          "base_uri": "https://localhost:8080/",
          "height": 379
        }
      },
      "cell_type": "code",
      "source": [
        "plt.plot(test_accuracies[\"0.5\"],label=\"0.5\")\n",
        "plt.plot(test_accuracies[\"0.75\"],label=\"0.75\")\n",
        "plt.title(\"Multi-layer NN - Test accuracy at different dropout rates\")\n",
        "plt.legend()"
      ],
      "execution_count": 0,
      "outputs": [
        {
          "output_type": "execute_result",
          "data": {
            "text/plain": [
              "<matplotlib.legend.Legend at 0x7f70254b4fd0>"
            ]
          },
          "metadata": {
            "tags": []
          },
          "execution_count": 20
        },
        {
          "output_type": "display_data",
          "data": {
            "image/png": "[encoded data removed]",
            "text/plain": [
              "<matplotlib.figure.Figure at 0x7f70256e4550>"
            ]
          },
          "metadata": {
            "tags": []
          }
        }
      ]
    },
    {
      "metadata": {
        "id": "JCTc4jWpM2DP",
        "colab_type": "code",
        "outputId": "e8a9b83f-77f9-45fa-9157-869239b39850",
        "colab": {
          "base_uri": "https://localhost:8080/",
          "height": 379
        }
      },
      "cell_type": "code",
      "source": [
        "plt.plot(costs['0.5'],label=\"0.5\")\n",
        "plt.plot(costs['0.75'],label=\"0.75\")\n",
        "plt.title(\"Multi-layer NN - Cost at different dropout rates\")\n",
        "plt.legend()"
      ],
      "execution_count": 0,
      "outputs": [
        {
          "output_type": "execute_result",
          "data": {
            "text/plain": [
              "<matplotlib.legend.Legend at 0x7f7025448e90>"
            ]
          },
          "metadata": {
            "tags": []
          },
          "execution_count": 21
        },
        {
          "output_type": "display_data",
          "data": {
            "image/png": "[encoded data removed]",
            "text/plain": [
              "<matplotlib.figure.Figure at 0x7f70254773d0>"
            ]
          },
          "metadata": {
            "tags": []
          }
        }
      ]
    },
    {
      "metadata": {
        "id": "5yBQBDRTxiOJ",
        "colab_type": "text"
      },
      "cell_type": "markdown",
      "source": [
        "---\n",
        "# 6. Convolutional Network\n",
        "<img src=\"figs/16-comic6.png\" style=\"width: 500px;\"/>\n",
        "In the previous sections, all pixels of images flattened into a single vector, which was a really bad idea. Handwritten digits are made of shapes and we discarded the shape information when we flattened the pixels. However, we can use **convolutional neural networks (CNN)** to take advantage of shape information. CNNs apply *a series of filters* to the raw pixel data of an image to extract and learn higher-level features, which the model can then use for classification. CNNs contains three components:\n",
        "  - **Convolutional layers**: apply a specified number of convolution filters to the image. For each subregion, the layer performs a set of mathematical operations to produce a single value in the output feature map. Convolutional layers then typically apply a ReLU activation function to the output to introduce nonlinearities into the model.\n",
        "  - **Pooling layers**: downsample the image data extracted by the convolutional layers to reduce the dimensionality of the feature map in order to decrease processing time. A commonly used pooling algorithm is max pooling, which extracts subregions of the feature map (e.g., 2x2-pixel tiles), keeps their maximum value, and discards all other values.\n",
        "  - **Dense (fully connected) layers**: perform classification on the features extracted by the convolutional layers and downsampled by the pooling layers. In a dense layer, every node in the layer is connected to every node in the preceding layer.\n",
        "  \n",
        "Typically, a CNN is composed of a *stack of **convolutional modules*** that perform feature extraction. Each *module* consists of a *convolutional layer* followed by a *pooling layer*. The last convolutional module is followed by one or more dense layers that perform classification. The final dense layer in a CNN contains a single neuron for each target class in the model, with a softmax activation function to generate a value between 0-1 for each neuron. We can interpret the softmax values for a given image as relative measurements of how likely it is that the image falls into each target class.\n",
        "\n",
        "Now, let us build a convolutional network for handwritten digit recognition. In this assignment, we will use the architecture shown in the following figure that has three convolutional layers, one fully-connected layer, and one softmax layer. Notice that the second and third convolutional layers have a stride of two that explains why they bring the number of output values down from 28x28 to 14x14 and then 7x7. A convolutional layer requires a weights tensor like `[4, 4, 3, 2]`, in which the first two numbers define the size of a filter (map), the third number shows the *depth* of the filter that is the number of *input channel*, and the last number shows the number of *output channel*. The output channel defines the number of times that we repeat the same thing with a different set of weights in one layer. In our implementation, we assume the output depth of first three convolutional layers, are 4, 8, 12, and the size of fully connected layer is 200.\n",
        "<img src=\"figs/17-arch1.png\" style=\"width: 600px;\"/>\n",
        "\n",
        "Convolutional layers can be implemented in TensorFlow using the `tf.nn.conv2d` function, which performs the scanning of the input image in both directions using the supplied weights. This is only the weighted sum part of the neuron. You still need to add a bias and feed the result through an activation function. The padding strategy that works here is to copy pixels from the sides of the image. All digits are on a uniform background so this just extends the background and should not add any unwanted shapes."
      ]
    },
    {
      "metadata": {
        "id": "jht-Px-xxiOL",
        "colab_type": "code",
        "outputId": "da65a7d9-ffb5-463a-a623-c670bbb3b607",
        "colab": {
          "base_uri": "https://localhost:8080/",
          "height": 765
        }
      },
      "cell_type": "code",
      "source": [
        "# TODO: Replace <FILL IN> with appropriate code\n",
        "\n",
        "# · · · · · · · · · ·      (input data, 1-deep)               X [batch, 28, 28, 1]\n",
        "# @ @ @ @ @ @ @ @ @ @   -- conv. layer 5x5x1=>4 stride 1      W1 [5, 5, 1, 4]        B1 [4]\n",
        "# ∶∶∶∶∶∶∶∶∶∶∶∶∶∶∶∶∶∶∶                                         Y1_hat [batch, 28, 28, 4]\n",
        "#   @ @ @ @ @ @ @ @     -- conv. layer 5x5x4=>8 stride 2      W2 [5, 5, 4, 8]        B2 [8]\n",
        "#   ∶∶∶∶∶∶∶∶∶∶∶∶∶∶∶                                           Y2_hat [batch, 14, 14, 8]\n",
        "#     @ @ @ @ @ @       -- conv. layer 4x4x8=>12 stride 2     W3 [4, 4, 8, 12]       B3 [12]\n",
        "#     ∶∶∶∶∶∶∶∶∶∶∶                                             Y3_hat [batch, 7, 7, 12] => reshaped to YY [batch, 7*7*12]\n",
        "#      \\x/x\\x\\x/        -- fully connected layer (relu)       W4 [7*7*12, 200]       B4 [200]\n",
        "#       · · · ·                                               Y4_hat [batch, 200]\n",
        "#       \\x/x\\x/         -- fully connected layer (softmax)    W5 [200, 10]           B5 [10]\n",
        "#        · · ·                                                Y_hat [batch, 10]\n",
        "\n",
        "# to reset the Tensorflow default graph\n",
        "reset_graph()\n",
        "\n",
        "########################################\n",
        "# define variables and placeholders\n",
        "########################################\n",
        "X = tf.placeholder(tf.float32, shape=[None, 784])\n",
        "XX = tf.reshape(X, [-1, 28, 28, 1])\n",
        "Y = tf.placeholder(tf.float32, shape=[None, 10])\n",
        "\n",
        "# variable learning rate\n",
        "learning_rate = tf.placeholder(tf.float32)\n",
        "step = tf.placeholder(tf.float32)\n",
        "\n",
        "# three convolutional layers with their channel counts, and a fully connected layer \n",
        "# (the last layer has 10 softmax neurons)\n",
        "# the output depth of first three convolutional layers, are 4, 8, 12, and the size of fully connected\n",
        "# layer is 200\n",
        "W1 = tf.Variable(tf.truncated_normal(shape=[5, 5, 1, 4],stddev=0.2))\n",
        "B1 = tf.Variable(tf.ones([4])/10)\n",
        "\n",
        "W2 = tf.Variable(tf.truncated_normal(shape=[5, 5, 4, 8],stddev=0.2))\n",
        "B2 = tf.Variable(tf.ones([8])/10)\n",
        "\n",
        "W3 = tf.Variable(tf.truncated_normal(shape=[4, 4, 8, 12],stddev=0.2))\n",
        "B3 = tf.Variable(tf.ones([12])/10)\n",
        "\n",
        "W4 = tf.Variable(tf.truncated_normal(shape=[7*7*12, 200],stddev=0.2))\n",
        "B4 = tf.Variable(tf.ones([200])/10)\n",
        "\n",
        "W5 = tf.Variable(tf.truncated_normal(shape=[200, 10],stddev=0.2))\n",
        "B5 = tf.Variable(tf.ones([10])/10)\n",
        "\n",
        "########################################\n",
        "# build the model\n",
        "########################################\n",
        "stride = 1  # output is 28x28\n",
        "Y1_hat = tf.nn.relu(tf.nn.conv2d(XX, W1, strides=[1, stride, stride, 1], padding = \"SAME\") + B1)       # use tf.nn.conv2d\n",
        "\n",
        "stride = 2  # output is 14x14\n",
        "Y2_hat = tf.nn.relu(tf.nn.conv2d(Y1_hat, W2, strides=[1, stride, stride, 1], padding = \"SAME\") + B2)\n",
        "\n",
        "stride = 2  # output is 7x7\n",
        "Y3_hat = tf.nn.relu(tf.nn.conv2d(Y2_hat, W3, strides=[1, stride, stride, 1], padding = \"SAME\") + B3)\n",
        "\n",
        "# reshape the output from the third convolution for the fully connected layer\n",
        "YY_hat = tf.reshape(Y3_hat, [-1, 7*7*12])\n",
        "Y4_hat = tf.nn.relu(tf.matmul(YY_hat, W4) + B4)\n",
        "Ylogits = tf.matmul(Y4_hat,W5) + B5\n",
        "Y_hat = tf.nn.softmax(Ylogits)\n",
        "\n",
        "########################################\n",
        "# define the cost function\n",
        "########################################\n",
        "cross_entropy = tf.nn.softmax_cross_entropy_with_logits(logits=Ylogits, labels=Y)\n",
        "cross_entropy = tf.reduce_mean(cross_entropy) * 100\n",
        "\n",
        "########################################\n",
        "# define learning rate\n",
        "########################################\n",
        "max_learning_rate = 0.005\n",
        "min_learning_rate = 0.0001\n",
        "decay_speed = 2000.0\n",
        "learning_rate = min_learning_rate + tf.train.exponential_decay(max_learning_rate, step, decay_speed, 1/math.e)\n",
        "\n",
        "########################################\n",
        "# define the optmizer\n",
        "########################################\n",
        "optimizer = tf.train.AdamOptimizer(learning_rate)\n",
        "train_step = optimizer.minimize(cross_entropy)\n",
        "\n",
        "########################################\n",
        "# execute the model\n",
        "########################################\n",
        "init = tf.global_variables_initializer()\n",
        "\n",
        "correct_prediction = tf.equal(tf.argmax(Y_hat,1), tf.argmax(Y,1))\n",
        "accuracy = tf.reduce_mean(tf.cast(correct_prediction, \"float\"))\n",
        "\n",
        "train_accuracies = []\n",
        "test_accuracies = []\n",
        "costs = []\n",
        "\n",
        "n_epochs = 5000\n",
        "with tf.Session() as sess:\n",
        "    sess.run(init)\n",
        "    \n",
        "    for n in range(n_epochs):\n",
        "      batch_xs, batch_ys = mnist.train.next_batch(100)\n",
        "        \n",
        "      sess.run(train_step, {X: batch_xs, Y: batch_ys, step:n})\n",
        "      \n",
        "      #get test data accuracy\n",
        "      if n % 250 == 0:\n",
        "        cost, train_accuracy = sess.run([cross_entropy,accuracy], feed_dict={X: mnist.train.images, Y: mnist.train.labels, step:n})\n",
        "        print(\"Iteration {0}, cost is {1}\".format(n, round(cost,2)))\n",
        "        test_accuracy = sess.run(accuracy, feed_dict={X: mnist.test.images, Y: mnist.test.labels, step:n})\n",
        "        print(\"Current Model Accuracy: {0} %\".format(round(test_accuracy*100, 2)))\n",
        "        train_accuracies.append(train_accuracy)\n",
        "        test_accuracies.append(test_accuracy)\n",
        "        costs.append(cost)\n",
        "        \n",
        "    print(\"----------------------------------------------\")\n",
        "    final_accuracy,final_lr = sess.run([accuracy, learning_rate], feed_dict={X: mnist.test.images, Y: mnist.test.labels, step: n})\n",
        "    print(\"Final Model Accuracy:{0}\\n Final Learning Rate:{1}\".format(round(final_accuracy*100, 2), round(final_lr,5)))\n",
        "    print(\"----------------------------------------------\")"
      ],
      "execution_count": 0,
      "outputs": [
        {
          "output_type": "stream",
          "text": [
            "Iteration 0, cost is 635.17\n",
            "Current Model Accuracy: 11.81 %\n",
            "Iteration 250, cost is 11.51\n",
            "Current Model Accuracy: 96.53 %\n",
            "Iteration 500, cost is 7.66\n",
            "Current Model Accuracy: 97.24 %\n",
            "Iteration 750, cost is 5.61\n",
            "Current Model Accuracy: 97.98 %\n",
            "Iteration 1000, cost is 4.22\n",
            "Current Model Accuracy: 98.1 %\n",
            "Iteration 1250, cost is 3.97\n",
            "Current Model Accuracy: 98.27 %\n",
            "Iteration 1500, cost is 2.64\n",
            "Current Model Accuracy: 98.47 %\n",
            "Iteration 1750, cost is 2.41\n",
            "Current Model Accuracy: 98.39 %\n",
            "Iteration 2000, cost is 1.84\n",
            "Current Model Accuracy: 98.45 %\n",
            "Iteration 2250, cost is 1.99\n",
            "Current Model Accuracy: 98.44 %\n",
            "Iteration 2500, cost is 1.85\n",
            "Current Model Accuracy: 98.3 %\n",
            "Iteration 2750, cost is 1.05\n",
            "Current Model Accuracy: 98.64 %\n",
            "Iteration 3000, cost is 0.95\n",
            "Current Model Accuracy: 98.61 %\n",
            "Iteration 3250, cost is 0.49\n",
            "Current Model Accuracy: 98.73 %\n",
            "Iteration 3500, cost is 0.47\n",
            "Current Model Accuracy: 98.7 %\n",
            "Iteration 3750, cost is 0.33\n",
            "Current Model Accuracy: 98.69 %\n",
            "Iteration 4000, cost is 0.32\n",
            "Current Model Accuracy: 98.67 %\n",
            "Iteration 4250, cost is 0.17\n",
            "Current Model Accuracy: 98.71 %\n",
            "Iteration 4500, cost is 0.2\n",
            "Current Model Accuracy: 98.8 %\n",
            "Iteration 4750, cost is 0.15\n",
            "Current Model Accuracy: 98.71 %\n",
            "----------------------------------------------\n",
            "Final Model Accuracy:98.65\n",
            " Final Learning Rate:0.00051\n",
            "----------------------------------------------\n"
          ],
          "name": "stdout"
        }
      ]
    },
    {
      "metadata": {
        "id": "7go5MCC8-QmE",
        "colab_type": "code",
        "outputId": "ab363742-232c-4abc-8408-ca2bfda4a4e1",
        "colab": {
          "base_uri": "https://localhost:8080/",
          "height": 379
        }
      },
      "cell_type": "code",
      "source": [
        "plt.plot(test_accuracies, label= \"test\")\n",
        "plt.plot(train_accuracies, label = \"train\")\n",
        "plt.title(\"CNN - Accuracy\")\n",
        "plt.legend()"
      ],
      "execution_count": 0,
      "outputs": [
        {
          "output_type": "execute_result",
          "data": {
            "text/plain": [
              "<matplotlib.legend.Legend at 0x7f70253d4250>"
            ]
          },
          "metadata": {
            "tags": []
          },
          "execution_count": 23
        },
        {
          "output_type": "display_data",
          "data": {
            "image/png": "[encoded data removed]",
            "text/plain": [
              "<matplotlib.figure.Figure at 0x7f7025418990>"
            ]
          },
          "metadata": {
            "tags": []
          }
        }
      ]
    },
    {
      "metadata": {
        "id": "1s_gmRt9X3OK",
        "colab_type": "code",
        "outputId": "a7c68b0d-a9fe-4a90-d68b-ebb08e233f64",
        "colab": {
          "base_uri": "https://localhost:8080/",
          "height": 379
        }
      },
      "cell_type": "code",
      "source": [
        "plt.plot(costs)\n",
        "plt.title(\"CNN - cost\")"
      ],
      "execution_count": 0,
      "outputs": [
        {
          "output_type": "execute_result",
          "data": {
            "text/plain": [
              "Text(0.5,1,u'CNN - cost')"
            ]
          },
          "metadata": {
            "tags": []
          },
          "execution_count": 24
        },
        {
          "output_type": "display_data",
          "data": {
            "image/png": "[encoded data removed]",
            "text/plain": [
              "<matplotlib.figure.Figure at 0x7f7025477c10>"
            ]
          },
          "metadata": {
            "tags": []
          }
        }
      ]
    },
    {
      "metadata": {
        "id": "P1-jEWUjxiOO",
        "colab_type": "text"
      },
      "cell_type": "markdown",
      "source": [
        "# 7. Improve The Performance\n",
        "A good approach to sizing your neural networks is to implement a network that is a little too constrained, then give it a bit more degrees of freedom and add dropout to make sure it is not overfitting. This ends up with a fairly optimal network for your problem. In the above model, we set the output channel to 4 in the first convolutional layer, which means that we repeat the same filter shape (but with different weights) four times. If we assume that those filters evolve during training into shape recognisers, you can intuitively see that this might not be enough for our problem. Handwritten digits are made from more than 4 elemental shapes. So let us bump up the filter sizes a little, and also increase the number of filters in our convolutional layers from 4, 8, 12 to 6, 12, 24 and then add dropout on the fully-connected layer. The following figure shows the new architecture you should build. Please complete the following code based on the given architecture and dropout technique.\n",
        "<img src=\"figs/18-arch2.png\" style=\"width: 600px;\"/>"
      ]
    },
    {
      "metadata": {
        "id": "W4H5t5u7xiOP",
        "colab_type": "code",
        "outputId": "01e6830b-b1f4-4c4c-ed43-b498f3bd3c74",
        "colab": {
          "base_uri": "https://localhost:8080/",
          "height": 420
        }
      },
      "cell_type": "code",
      "source": [
        "# · · · · · · · · · ·    (input data, 1-deep)                 X [batch, 28, 28, 1]\n",
        "# @ @ @ @ @ @ @ @ @ @ -- conv. layer 6x6x1=>6 stride 1        W1 [5, 5, 1, 6]        B1 [6]\n",
        "# ∶∶∶∶∶∶∶∶∶∶∶∶∶∶∶∶∶∶∶                                         Y1_hat [batch, 28, 28, 6]\n",
        "#   @ @ @ @ @ @ @ @   -- conv. layer 5x5x6=>12 stride 2       W2 [5, 5, 6, 12]        B2 [12]\n",
        "#   ∶∶∶∶∶∶∶∶∶∶∶∶∶∶∶                                           Y2_hat [batch, 14, 14, 12]\n",
        "#     @ @ @ @ @ @     -- conv. layer 4x4x12=>24 stride 2      W3 [4, 4, 12, 24]       B3 [24]\n",
        "#     ∶∶∶∶∶∶∶∶∶∶∶                                             Y3_hat [batch, 7, 7, 24] => reshaped to YY [batch, 7*7*24]\n",
        "#      \\x/x\\x\\x/ ✞    -- fully connected layer (relu+dropout) W4 [7*7*24, 200]       B4 [200]\n",
        "#       · · · ·                                               Y4_hat [batch, 200]\n",
        "#       \\x/x\\x/       -- fully connected layer (softmax)      W5 [200, 10]           B5 [10]\n",
        "#        · · ·                                                Y_hat [batch, 10]\n",
        "\n",
        "# to reset the Tensorflow default graph\n",
        "reset_graph()\n",
        "\n",
        "########################################\n",
        "# define variables and placeholders\n",
        "########################################\n",
        "X = tf.placeholder(tf.float32, shape=[None, 784])\n",
        "XX = tf.reshape(X, [-1, 28, 28, 1])\n",
        "Y = tf.placeholder(tf.float32, shape=[None, 10])\n",
        "\n",
        "# variable learning rate\n",
        "learning_rate = tf.placeholder(tf.float32)\n",
        "step = tf.placeholder(tf.float32)\n",
        "\n",
        "#dropout rate\n",
        "pkeep = tf.placeholder(tf.float32)\n",
        "\n",
        "# three convolutional layers with their channel counts, and a fully connected layer \n",
        "# (the last layer has 10 softmax neurons)\n",
        "# the output depth of first three convolutional layers, are 6, 12, 24, and the size of fully connected\n",
        "# layer is 200\n",
        "W1 = tf.Variable(tf.truncated_normal(shape=[5, 5, 1, 6],stddev=0.1))\n",
        "B1 = tf.Variable(tf.ones([6])/10)\n",
        "\n",
        "W2 = tf.Variable(tf.truncated_normal(shape=[5, 5, 6, 12],stddev=0.1))\n",
        "B2 = tf.Variable(tf.ones([12])/10)\n",
        "\n",
        "W3 = tf.Variable(tf.truncated_normal(shape=[4, 4, 12, 24],stddev=0.1))\n",
        "B3 = tf.Variable(tf.ones([24])/10)\n",
        "\n",
        "W4 = tf.Variable(tf.truncated_normal(shape=[7*7*24, 200],stddev=0.1))\n",
        "B4 = tf.Variable(tf.ones([200])/10)\n",
        "\n",
        "W5 = tf.Variable(tf.truncated_normal(shape=[200, 10],stddev=0.1))\n",
        "B5 = tf.Variable(tf.ones([10])/10)\n",
        "\n",
        "########################################\n",
        "# build the model\n",
        "########################################\n",
        "stride = 1  # output is 28x28\n",
        "Y1_hat = tf.nn.relu(tf.nn.conv2d(XX, W1, strides=[1, stride, stride, 1], padding = \"SAME\") + B1)\n",
        "\n",
        "stride = 2  # output is 14x14\n",
        "Y2_hat = tf.nn.relu(tf.nn.conv2d(Y1_hat, W2, strides=[1, stride, stride, 1], padding = \"SAME\") + B2)\n",
        "\n",
        "stride = 2  # output is 7x7\n",
        "Y3_hat = tf.nn.relu(tf.nn.conv2d(Y2_hat, W3, strides=[1, stride, stride, 1], padding = \"SAME\") + B3)\n",
        "\n",
        "# reshape the output from the third convolution for the fully connected layer\n",
        "YY_hat = tf.reshape(Y3_hat, [-1, 7*7*24])\n",
        "Y4_hat = tf.nn.relu(tf.matmul(YY_hat, W4) + B4)\n",
        "YY4_hat = tf.nn.dropout(Y4_hat, keep_prob=pkeep)\n",
        "Ylogits = tf.matmul(YY4_hat,W5) + B5\n",
        "Y_hat = tf.nn.softmax(Ylogits)\n",
        "\n",
        "########################################\n",
        "# define the Loss function\n",
        "########################################\n",
        "cross_entropy = tf.nn.softmax_cross_entropy_with_logits(logits=Ylogits, labels=Y)\n",
        "cross_entropy = tf.reduce_mean(cross_entropy) * 100\n",
        "\n",
        "########################################\n",
        "# define learning rate\n",
        "########################################\n",
        "max_learning_rate = 0.005\n",
        "min_learning_rate = 0.0001\n",
        "decay_speed = 2000.0\n",
        "learning_rate = min_learning_rate + tf.train.exponential_decay(max_learning_rate, step, decay_speed, 1/math.e)\n",
        "\n",
        "########################################\n",
        "# train the model\n",
        "########################################\n",
        "optimizer = tf.train.AdamOptimizer(learning_rate)\n",
        "train_step = optimizer.minimize(cross_entropy)\n",
        "\n",
        "########################################\n",
        "# execute the model\n",
        "########################################\n",
        "init = tf.global_variables_initializer()\n",
        "\n",
        "correct_prediction = tf.equal(tf.argmax(Y_hat,1), tf.argmax(Y,1))\n",
        "accuracy = tf.reduce_mean(tf.cast(correct_prediction, \"float\"))\n",
        "\n",
        "train_accuracies = []\n",
        "test_accuracies = []\n",
        "costs = []\n",
        "droupout = 0.7       #since 0.7 showed best results after tryout\n",
        "\n",
        "n_epochs = 2000\n",
        "with tf.Session() as sess:\n",
        "  sess.run(init)\n",
        "  \n",
        "  for n in range(n_epochs):\n",
        "      batch_xs, batch_ys = mnist.train.next_batch(100)\n",
        "        \n",
        "      sess.run(train_step, {X: batch_xs, Y: batch_ys, step:n, pkeep: dropout})\n",
        "      \n",
        "      #get test data accuracy\n",
        "      if n % 200 == 0:\n",
        "        cost, train_accuracy = sess.run([cross_entropy, accuracy], feed_dict={X: mnist.train.images, Y: mnist.train.labels, step:n, pkeep:1.0})\n",
        "        print(\"Iteration {0}, cost is {1}\".format(n, round(cost,2)))\n",
        "        test_accuracy = sess.run(accuracy, feed_dict={X: mnist.test.images, Y: mnist.test.labels, step:n, pkeep:1.0})\n",
        "        print(\"Current Model Accuracy: {0} %\".format(round(test_accuracy*100, 2)))\n",
        "        train_accuracies.append(train_accuracy)\n",
        "        test_accuracies.append(test_accuracy)\n",
        "        costs.append(cost)\n",
        "               \n",
        "  print(\"----------------------------------------------\")\n",
        "  final_accuracy,final_lr = sess.run([accuracy, learning_rate], feed_dict={X: mnist.test.images, Y: mnist.test.labels, step: n, pkeep:1.0})\n",
        "  print(\"Final Model Accuracy:{0}\\n Final Learning Rate:{1}\".format(round(final_accuracy*100, 2), final_lr))\n",
        "  print(\"----------------------------------------------\")"
      ],
      "execution_count": 0,
      "outputs": [
        {
          "output_type": "stream",
          "text": [
            "Iteration 0, cost is 293.36\n",
            "Current Model Accuracy: 15.89 %\n",
            "Iteration 200, cost is 10.99\n",
            "Current Model Accuracy: 96.54 %\n",
            "Iteration 400, cost is 6.62\n",
            "Current Model Accuracy: 97.85 %\n",
            "Iteration 600, cost is 5.55\n",
            "Current Model Accuracy: 98.18 %\n",
            "Iteration 800, cost is 4.04\n",
            "Current Model Accuracy: 98.33 %\n",
            "Iteration 1000, cost is 3.06\n",
            "Current Model Accuracy: 98.79 %\n",
            "Iteration 1200, cost is 2.86\n",
            "Current Model Accuracy: 98.82 %\n",
            "Iteration 1400, cost is 2.28\n",
            "Current Model Accuracy: 98.98 %\n",
            "Iteration 1600, cost is 2.05\n",
            "Current Model Accuracy: 98.89 %\n",
            "Iteration 1800, cost is 1.69\n",
            "Current Model Accuracy: 99.09 %\n",
            "----------------------------------------------\n",
            "Final Model Accuracy:99.07\n",
            " Final Learning Rate:0.00194031698629\n",
            "----------------------------------------------\n"
          ],
          "name": "stdout"
        }
      ]
    },
    {
      "metadata": {
        "id": "r1vMwvcWZyBu",
        "colab_type": "code",
        "outputId": "7fa8cab6-8ee2-40f0-82cb-460fc6f0178b",
        "colab": {
          "base_uri": "https://localhost:8080/",
          "height": 378
        }
      },
      "cell_type": "code",
      "source": [
        "plt.plot(test_accuracies, label= \"test\")\n",
        "plt.plot(train_accuracies, label = \"train\")\n",
        "plt.title(\"Improved CNN- Accuracy\")\n",
        "plt.legend()"
      ],
      "execution_count": 0,
      "outputs": [
        {
          "output_type": "execute_result",
          "data": {
            "text/plain": [
              "<matplotlib.legend.Legend at 0x7f7c43767c50>"
            ]
          },
          "metadata": {
            "tags": []
          },
          "execution_count": 84
        },
        {
          "output_type": "display_data",
          "data": {
            "image/png": "[encoded data removed]",
            "text/plain": [
              "<matplotlib.figure.Figure at 0x7f7c3b4f6b10>"
            ]
          },
          "metadata": {
            "tags": []
          }
        }
      ]
    },
    {
      "metadata": {
        "id": "qzZhZNdFxiOR",
        "colab_type": "text"
      },
      "cell_type": "markdown",
      "source": [
        "---\n",
        "# 8. Tensorflow Layers Module\n",
        "The TensorFlow **layers** `tf.layers` module provides a high-level API that makes it easy to construct a neural network. It provides methods that facilitate: (i) the creation of dense (fully connected) layers and convolutional layers, (ii) adding activation functions, and (iii) applying dropout regularization. In this section use the module `tf.layers` to build the network you made in section 7."
      ]
    },
    {
      "metadata": {
        "id": "u85LM9nKxiOS",
        "colab_type": "code",
        "outputId": "d512012a-ec94-461a-908c-fe7e17df492d",
        "colab": {
          "base_uri": "https://localhost:8080/",
          "height": 420
        }
      },
      "cell_type": "code",
      "source": [
        "# TODO: Replace <FILL IN> with appropriate code\n",
        "\n",
        "# to reset the Tensorflow default graph\n",
        "reset_graph()\n",
        "\n",
        "# · · · · · · · · · ·    (input data, 1-deep)                 X [batch, 28, 28, 1]\n",
        "# @ @ @ @ @ @ @ @ @ @ -- conv. layer 6x6x1=>6 stride 1        W1 [5, 5, 1, 6]        B1 [6]\n",
        "# ∶∶∶∶∶∶∶∶∶∶∶∶∶∶∶∶∶∶∶                                         Y1_hat [batch, 28, 28, 6]\n",
        "#   @ @ @ @ @ @ @ @   -- conv. layer 5x5x6=>12 stride 2       W2 [5, 5, 6, 12]        B2 [12]\n",
        "#   ∶∶∶∶∶∶∶∶∶∶∶∶∶∶∶                                           Y2_hat [batch, 14, 14, 12]\n",
        "#     @ @ @ @ @ @     -- conv. layer 4x4x12=>24 stride 2      W3 [4, 4, 12, 24]       B3 [24]\n",
        "#     ∶∶∶∶∶∶∶∶∶∶∶                                             Y3_hat [batch, 7, 7, 24] => reshaped to YY [batch, 7*7*24]\n",
        "#      \\x/x\\x\\x/ ✞    -- fully connected layer (relu+dropout) W4 [7*7*24, 200]       B4 [200]\n",
        "#       · · · ·                                               Y4_hat [batch, 200]\n",
        "#       \\x/x\\x/       -- fully connected layer (softmax)      W5 [200, 10]           B5 [10]\n",
        "#        · · ·                                                Y_hat [batch, 10]\n",
        "\n",
        "\n",
        "########################################\n",
        "# define variables and placeholders\n",
        "########################################\n",
        "X = tf.placeholder(tf.float32, shape=[None, 784])\n",
        "XX = tf.reshape(X, [-1, 28, 28, 1])\n",
        "Y = tf.placeholder(tf.float32, shape=[None, 10])\n",
        "\n",
        "# variable learning rate\n",
        "learning_rate = tf.placeholder(tf.float32)\n",
        "step = tf.placeholder(tf.float32)\n",
        "\n",
        "#dropout rate\n",
        "pkeep = tf.placeholder(tf.float32)\n",
        "\n",
        "\n",
        "# Convolutional Layer #1\n",
        "stride = 1\n",
        "Y1_hat = tf.layers.conv2d(\n",
        "      inputs=XX,\n",
        "      filters=6,\n",
        "      kernel_size=[5, 5],\n",
        "      strides = (stride, stride),\n",
        "      use_bias=True,\n",
        "      padding=\"same\",\n",
        "      activation=tf.nn.relu)\n",
        "\n",
        "# Convolutional Layer #2\n",
        "stride = 2\n",
        "Y2_hat = tf.layers.conv2d(\n",
        "      inputs=Y1_hat,\n",
        "      filters=12,\n",
        "      kernel_size=[5, 5],\n",
        "      strides = (stride, stride),\n",
        "      use_bias=True,\n",
        "      padding=\"same\",\n",
        "      activation=tf.nn.relu)\n",
        "\n",
        "# Convolutional Layer #3\n",
        "stride = 2\n",
        "Y3_hat = tf.layers.conv2d(\n",
        "      inputs=Y2_hat,\n",
        "      filters=24,\n",
        "      kernel_size=[4, 4],\n",
        "      strides = (stride, stride),\n",
        "      use_bias=True,\n",
        "      padding=\"same\",\n",
        "      activation=tf.nn.relu)\n",
        "\n",
        "# reshape the output from the third convolution for the fully connected layer\n",
        "YY_hat = tf.reshape(Y3_hat, [-1, 7*7*24])\n",
        "\n",
        "Y4_hat = tf.layers.dense(inputs=YY_hat,\n",
        "                        units= 200,\n",
        "                        use_bias=True,\n",
        "                        activation=tf.nn.relu)\n",
        "\n",
        "Y4_dropout = tf.layers.dropout(inputs=Y4_hat,\n",
        "                            rate=(1-pkeep))\n",
        "\n",
        "Ylogits = tf.layers.dense(inputs=Y4_dropout, units=10)\n",
        "Y_hat = tf.nn.softmax(Ylogits)\n",
        "\n",
        "########################################\n",
        "# define the Loss function\n",
        "########################################\n",
        "cross_entropy = tf.nn.softmax_cross_entropy_with_logits(logits=Ylogits, labels=Y)\n",
        "cross_entropy = tf.reduce_mean(cross_entropy) * 100\n",
        "\n",
        "########################################\n",
        "# define learning rate\n",
        "########################################\n",
        "max_learning_rate = 0.005\n",
        "min_learning_rate = 0.0001\n",
        "decay_speed = 2000.0\n",
        "learning_rate = min_learning_rate + tf.train.exponential_decay(max_learning_rate, step, decay_speed, 1/math.e)\n",
        "\n",
        "########################################\n",
        "# train the model\n",
        "########################################\n",
        "optimizer = tf.train.AdamOptimizer(learning_rate)\n",
        "train_step = optimizer.minimize(cross_entropy)\n",
        "\n",
        "########################################\n",
        "# execute the model\n",
        "########################################\n",
        "init = tf.global_variables_initializer()\n",
        "\n",
        "correct_prediction = tf.equal(tf.argmax(Y_hat,1), tf.argmax(Y,1))\n",
        "accuracy = tf.reduce_mean(tf.cast(correct_prediction, \"float\"))\n",
        "\n",
        "train_accuracies = []\n",
        "test_accuracies = []\n",
        "costs = []\n",
        "droupout = 0.7       #since 0.75 showed best results before\n",
        "\n",
        "n_epochs = 2000\n",
        "with tf.Session() as sess:\n",
        "  sess.run(init)\n",
        "  \n",
        "  for n in range(n_epochs):\n",
        "      batch_xs, batch_ys = mnist.train.next_batch(100)\n",
        "        \n",
        "      sess.run(train_step, {X: batch_xs, Y: batch_ys, step:n, pkeep: dropout})\n",
        "      \n",
        "      #get test data accuracy\n",
        "      if n % 200 == 0:\n",
        "        cost, train_accuracy = sess.run([cross_entropy, accuracy], feed_dict={X: mnist.train.images, Y: mnist.train.labels, step:n, pkeep:1.0})\n",
        "        print(\"Iteration {0}, cost is {1}\".format(n, round(cost,2)))\n",
        "        test_accuracy = sess.run(accuracy, feed_dict={X: mnist.test.images, Y: mnist.test.labels, step:n, pkeep:1.0})\n",
        "        print(\"Current Model Accuracy: {0} %\".format(round(test_accuracy*100, 2)))\n",
        "        train_accuracies.append(train_accuracy)\n",
        "        test_accuracies.append(test_accuracy)\n",
        "        costs.append(cost)\n",
        "               \n",
        "  print(\"----------------------------------------------\")\n",
        "  final_accuracy,final_lr = sess.run([accuracy, learning_rate], feed_dict={X: mnist.test.images, Y: mnist.test.labels, step: n, pkeep:1.0})\n",
        "  print(\"Final Model Accuracy:{0}\\n Final Learning Rate:{1}\".format(round(final_accuracy*100, 2), final_lr))\n",
        "  print(\"----------------------------------------------\")"
      ],
      "execution_count": 0,
      "outputs": [
        {
          "output_type": "stream",
          "text": [
            "Iteration 0, cost is 223.21\n",
            "Current Model Accuracy: 28.75 %\n",
            "Iteration 200, cost is 8.78\n",
            "Current Model Accuracy: 97.32 %\n",
            "Iteration 400, cost is 6.95\n",
            "Current Model Accuracy: 97.8 %\n",
            "Iteration 600, cost is 4.98\n",
            "Current Model Accuracy: 98.27 %\n",
            "Iteration 800, cost is 4.05\n",
            "Current Model Accuracy: 98.37 %\n",
            "Iteration 1000, cost is 2.52\n",
            "Current Model Accuracy: 98.82 %\n",
            "Iteration 1200, cost is 2.62\n",
            "Current Model Accuracy: 98.68 %\n",
            "Iteration 1400, cost is 2.89\n",
            "Current Model Accuracy: 98.51 %\n",
            "Iteration 1600, cost is 2.01\n",
            "Current Model Accuracy: 98.67 %\n",
            "Iteration 1800, cost is 1.53\n",
            "Current Model Accuracy: 98.89 %\n",
            "----------------------------------------------\n",
            "Final Model Accuracy:98.98\n",
            " Final Learning Rate:0.00194031698629\n",
            "----------------------------------------------\n"
          ],
          "name": "stdout"
        }
      ]
    },
    {
      "metadata": {
        "id": "Qt4cUzxIxiOV",
        "colab_type": "text"
      },
      "cell_type": "markdown",
      "source": [
        "---\n",
        "# 9. Keras\n",
        "Keras is a high-level API to build and train deep learning models. It's used for fast prototyping, advanced research, and production. `tf.keras` is TensorFlow's implementation of the Keras API specification. To work with Keras, you need to import `tf.keras` as part of your TensorFlow program setup.\n",
        "```\n",
        "import tensorflow as tf\n",
        "from tensorflow.keras import layers\n",
        "```\n",
        "#### Build a model\n",
        "In Keras, you assemble **layers** to build a model, i.e., a graph of layers. The most common type of model is a stack of layers: the `tf.keras.Sequential` model. For example, the following code builds a simple, fully-connected network (i.e., multi-layer perceptron):\n",
        "```\n",
        "model = tf.keras.Sequential()\n",
        "# adds a densely-connected layer with 64 units to the model:\n",
        "model.add(layers.Dense(64, activation='relu'))\n",
        "# add another\n",
        "model.add(layers.Dense(64, activation='relu'))\n",
        "# add a softmax layer with 10 output units:\n",
        "model.add(layers.Dense(10, activation='softmax'))\n",
        "```\n",
        "There are many `tf.keras.layers` available with some common constructor parameters:\n",
        "* `activation`: set the activation function for the layer, which is specified by the name of a built-in function or as a callable object.\n",
        "* `kernel_initializer` and `bias_initializer`: the initialization schemes that create the layer's weights (weight and bias).\n",
        "* `kernel_regularizer` and `bias_regularizer`: the regularization schemes that apply the layer's weights (weight and bias), such as L1 or L2 regularization.\n",
        "\n",
        "#### Train and evaluate\n",
        "After you construct a model, you can configure its learning process by calling the `compile` method:\n",
        "```\n",
        "model.compile(optimizer=tf.train.AdamOptimizer(0.001),\n",
        "              loss='categorical_crossentropy',\n",
        "              metrics=['accuracy'])\n",
        "```\n",
        "The method `tf.keras.Model.compile` takes three important arguments:\n",
        "* `optimizer`: it specifies the training procedure, e.g., `tf.train.AdamOptimizer` and `tf.train.GradientDescentOptimizer`.\n",
        "* `loss`: the cost function to minimize during optimization, e.g., mean square error (mse), categorical_crossentropy, and binary_crossentropy.\n",
        "* `metrics`: used to monitor training, e.g., `accuracy`.\n",
        "\n",
        "The next step after confiuring the model is to train it by calling the `model.fit` method and giving it training data as its input. After training the model you can call `tf.keras.Model.evaluate` and `tf.keras.Model.predict` methods to evaluate the inference-mode loss and metrics for the data provided or predict the output of the last layer in inference for the data provided, respectively.\n",
        "\n",
        "You can read more about Keras [here](https://www.tensorflow.org/guide/keras).\n",
        "\n",
        "In this task, please use Keras to rebuild the network you made in section 7."
      ]
    },
    {
      "metadata": {
        "id": "FYuY-4g4xiOW",
        "colab_type": "code",
        "outputId": "ad61dc7b-4e4c-4c8e-f89f-b891b0ca2b02",
        "colab": {
          "base_uri": "https://localhost:8080/",
          "height": 470
        }
      },
      "cell_type": "code",
      "source": [
        "reset_graph()\n",
        "\n",
        "import keras\n",
        "from keras.datasets import mnist\n",
        "from keras.models import Sequential\n",
        "from keras.layers import Dense, Dropout, Flatten\n",
        "from keras.layers import Conv2D\n",
        "from keras import backend as K\n",
        "\n",
        "K.clear_session() #Destroys the current TF graph and creates a new one.\n",
        "\n",
        "\n",
        "(X_train_tmp, Y_train), (X_test_tmp, Y_test) = mnist.load_data() #Loading the data\n",
        "\n",
        "X_train = X_train_tmp.reshape(-1, 28, 28, 1)\n",
        "X_test = X_test_tmp.reshape(-1, 28, 28, 1)\n",
        "\n",
        "Y_train_cat = keras.utils.to_categorical(Y_train, 10)\n",
        "Y_test_cat = keras.utils.to_categorical(Y_test, 10)\n",
        "\n",
        "model = Sequential() #Choose model for keras\n",
        "\n",
        "weights_initializer = keras.initializers.RandomNormal(mean=0.0, stddev=0.1, seed=None) #Same as question 7\n",
        "\n",
        "bias_initializer = keras.initializers.Constant(value=0.1) #Same\n",
        "\n",
        "#Adding the different Conv\n",
        "\n",
        "model.add(Conv2D(filters=6, kernel_size=(5, 5), kernel_initializer = weights_initializer, bias_initializer = bias_initializer, strides=1, padding='same', activation='relu', input_shape=(28, 28, 1)))\n",
        "\n",
        "model.add(Conv2D(filters=12, kernel_size=(5, 5), kernel_initializer = weights_initializer, bias_initializer = bias_initializer, strides=2, padding='same', activation='relu', input_shape=(28, 28, 6)))\n",
        "\n",
        "model.add(Conv2D(filters=24, kernel_size=(4, 4), kernel_initializer = weights_initializer, bias_initializer = bias_initializer, strides=2, padding='same', activation='relu', input_shape=(14, 14, 12)))\n",
        " \n",
        "model.add(Flatten())\n",
        "\n",
        "model.add(Dense(200, kernel_initializer = weights_initializer, bias_initializer = bias_initializer, activation='relu'))\n",
        "\n",
        "model.add(Dropout(0.7))\n",
        "\n",
        "model.add(Dense(10, kernel_initializer = weights_initializer, bias_initializer = bias_initializer, activation='softmax'))\n",
        "\n",
        "#Compiling the model with AdamOptimizer like before\n",
        "\n",
        "model.compile(loss=keras.losses.categorical_crossentropy,\n",
        "              optimizer=keras.optimizers.Adam(lr=0.001),\n",
        "              metrics=['accuracy'])\n",
        "\n",
        "#Model fitting\n",
        "\n",
        "history = model.fit(X_train, \n",
        "          Y_train_cat,\n",
        "          batch_size=100,\n",
        "          epochs=12,\n",
        "          verbose=1,\n",
        "          validation_data=(X_test, Y_test_cat)\n",
        "         )\n",
        "\n",
        "#Test\n",
        "\n",
        "test_set_accuracy = model.evaluate(X_test, Y_test_cat, verbose=0)\n",
        "print('Test accuracy:', round(test_set_accuracy[1]*100,2))\n",
        "print('Test Loss:', round(test_set_accuracy[0],2))\n"
      ],
      "execution_count": 0,
      "outputs": [
        {
          "output_type": "stream",
          "text": [
            "Train on 60000 samples, validate on 10000 samples\n",
            "Epoch 1/12\n",
            "60000/60000 [==============================] - 63s 1ms/step - loss: 3.7925 - acc: 0.6786 - val_loss: 0.2793 - val_acc: 0.9230\n",
            "Epoch 2/12\n",
            "60000/60000 [==============================] - 63s 1ms/step - loss: 0.4498 - acc: 0.8756 - val_loss: 0.1522 - val_acc: 0.9550\n",
            "Epoch 3/12\n",
            "60000/60000 [==============================] - 63s 1ms/step - loss: 0.2994 - acc: 0.9135 - val_loss: 0.1153 - val_acc: 0.9627\n",
            "Epoch 4/12\n",
            "60000/60000 [==============================] - 62s 1ms/step - loss: 0.2237 - acc: 0.9344 - val_loss: 0.0963 - val_acc: 0.9720\n",
            "Epoch 5/12\n",
            "60000/60000 [==============================] - 63s 1ms/step - loss: 0.1869 - acc: 0.9454 - val_loss: 0.0811 - val_acc: 0.9747\n",
            "Epoch 6/12\n",
            "60000/60000 [==============================] - 62s 1ms/step - loss: 0.1587 - acc: 0.9536 - val_loss: 0.0729 - val_acc: 0.9772\n",
            "Epoch 7/12\n",
            "60000/60000 [==============================] - 64s 1ms/step - loss: 0.1388 - acc: 0.9593 - val_loss: 0.0672 - val_acc: 0.9794\n",
            "Epoch 8/12\n",
            "60000/60000 [==============================] - 63s 1ms/step - loss: 0.1253 - acc: 0.9628 - val_loss: 0.0586 - val_acc: 0.9822\n",
            "Epoch 9/12\n",
            "60000/60000 [==============================] - 63s 1ms/step - loss: 0.1139 - acc: 0.9658 - val_loss: 0.0557 - val_acc: 0.9823\n",
            "Epoch 10/12\n",
            "60000/60000 [==============================] - 63s 1ms/step - loss: 0.0988 - acc: 0.9702 - val_loss: 0.0486 - val_acc: 0.9845\n",
            "Epoch 11/12\n",
            "60000/60000 [==============================] - 64s 1ms/step - loss: 0.0945 - acc: 0.9724 - val_loss: 0.0486 - val_acc: 0.9852\n",
            "Epoch 12/12\n",
            "60000/60000 [==============================] - 63s 1ms/step - loss: 0.0860 - acc: 0.9743 - val_loss: 0.0437 - val_acc: 0.9870\n",
            "Test accuracy: 98.7\n",
            "Test Loss: 0.04\n"
          ],
          "name": "stdout"
        }
      ]
    },
    {
      "metadata": {
        "id": "Ni3Iz_n93UTp",
        "colab_type": "code",
        "outputId": "7e529f9c-aaee-445e-f3a4-1a997a93847f",
        "colab": {
          "base_uri": "https://localhost:8080/",
          "height": 735
        }
      },
      "cell_type": "code",
      "source": [
        "import matplotlib.pyplot as plt\n",
        "\n",
        "plt.plot(history.history['acc'])\n",
        "plt.plot(history.history['val_acc'])\n",
        "plt.title('Model accuracy')\n",
        "plt.ylabel('Accuracy')\n",
        "plt.xlabel('Epoch')\n",
        "plt.legend(['Train', 'Test'], loc='upper left')\n",
        "plt.show()\n",
        "\n",
        "# Plot training & validation loss values\n",
        "plt.plot(history.history['loss'])\n",
        "plt.plot(history.history['val_loss'])\n",
        "plt.title('Model loss')\n",
        "plt.ylabel('Loss')\n",
        "plt.xlabel('Epoch')\n",
        "plt.legend(['Train', 'Test'], loc='upper left')\n",
        "plt.show()"
      ],
      "execution_count": 0,
      "outputs": [
        {
          "output_type": "display_data",
          "data": {
            "image/png": "[encoded data removed]",
            "text/plain": [
              "<matplotlib.figure.Figure at 0x7f35a1c13410>"
            ]
          },
          "metadata": {
            "tags": []
          }
        },
        {
          "output_type": "display_data",
          "data": {
            "image/png": "[encoded data removed]",
            "text/plain": [
              "<matplotlib.figure.Figure at 0x7f35a022afd0>"
            ]
          },
          "metadata": {
            "tags": []
          }
        }
      ]
    },
    {
      "metadata": {
        "id": "xrZb7Q0BxiOa",
        "colab_type": "text"
      },
      "cell_type": "markdown",
      "source": [
        "---\n",
        "# 10. Implement LeNet-5\n",
        "In this section, you should implement **LeNet-5** either using Tensorflow or Keras. Please take a look at its [paper](http://yann.lecun.com/exdb/publis/pdf/lecun-01a.pdf) before starting to implement it.\n",
        "The LeNet-5 architecture is perhaps the most widely known CNN architecture. It was created by Yann LeCun in 1998 and widely used for handwritten digit recognition (MNIST). It is composed of the layers shown in the following table.\n",
        "<img src=\"figs/19-letnet5.png\" style=\"width: 600px;\"/>\n",
        "There are a few extra details to be noted:\n",
        "* MNIST images are 28×28 pixels, but they are zero-padded to 32×32 pixels and normalized before being fed to the network. The rest of the network does not use any padding, which is why the size keeps shrinking as the image progresses through the network.\n",
        "* The average pooling layers are slightly more complex than usual: each neuron computes the mean of its inputs, then multiplies the result by a learnable coefficient and adds a learnable bias term, then finally applies the activation function.\n",
        "* Most neurons in layer C3 maps are connected to neurons in only three or four S2 maps (instead of all six S2 maps). See table 1 in the [paper](http://yann.lecun.com/exdb/publis/pdf/lecun-01a.pdf) for details.\n",
        "* The output layer is a bit special: instead of computing the dot product of the inputs and the weight vector, each neuron outputs the square of the Euclidian distance between its input vector and its weight vector. Each output measures how much the image belongs to a particular digit class. The cross-entropy cost function is now preferred, as it penalizes bad predictions much more, producing larger gradients and thus converging faster."
      ]
    },
    {
      "metadata": {
        "id": "SUpdxbIgxiOb",
        "colab_type": "code",
        "outputId": "0d358e82-41ff-41a8-e29d-042efce1e8fd",
        "colab": {
          "base_uri": "https://localhost:8080/",
          "height": 739
        }
      },
      "cell_type": "code",
      "source": [
        "# TODO: Build the LetNet-5 model, and test it on MNIST\n",
        "#Use of TENSORFLOW since it showed the highest results until now\n",
        "\n",
        "# to reset the Tensorflow default graph\n",
        "reset_graph()\n",
        "\n",
        "########################################\n",
        "# define variables and placeholders\n",
        "########################################\n",
        "X = tf.placeholder(np.float32, shape=[None, 784])\n",
        "XX = tf.reshape(X, [-1, 28, 28, 1])\n",
        "Y = tf.placeholder(np.float32, shape=[None, 10])\n",
        "\n",
        "# variable learning rate\n",
        "learning_rate = 0.001\n",
        "\n",
        "########################################\n",
        "#LeNet 5 Model Implementation\n",
        "########################################\n",
        "\n",
        "def LeNet_5(x):\n",
        "  \n",
        "  #Convert data to 32x32x1 by numpy padding\n",
        "  X_pad = tf.pad(x, [[0,0],[2,2],[2,2],[0,0]], 'CONSTANT')\n",
        "  \n",
        " # Layer 1 : Convolutional Layer, Input = 32x32x1, Output = 28x28x1.\n",
        "  W1 = tf.Variable(tf.truncated_normal(shape = [5,5,1,6],mean = 0, stddev = 0.1))\n",
        "  B1 = tf.Variable(tf.ones([6])/10)\n",
        "  C1 = tf.nn.conv2d(X_pad,W1, strides = [1,1,1,1], padding = 'VALID') + B1 \n",
        "  \n",
        "  C1 = tf.math.tanh(C1)\n",
        " \n",
        " # Pooling Layer, Input = 28x28x1. Output = 14x14x6.\n",
        "  S2 = tf.nn.max_pool(C1, ksize = [1,2,2,1], strides = [1,2,2,1], padding = 'VALID')\n",
        " \n",
        " # Layer 2: Convolutional Layer, Output = 10x10x16.\n",
        "  W3 = tf.Variable(tf.truncated_normal(shape = [5,5,6,16], mean = 0, stddev = 0.1))\n",
        "  B3 = tf.Variable(tf.ones(16)/10)\n",
        "  C3 = tf.nn.conv2d(S2, W3, strides = [1,1,1,1], padding = 'VALID') + B3\n",
        "  \n",
        "  C3 = tf.math.tanh(C3)\n",
        "  \n",
        " # Pooling Layer, Input = 10x10x16. Output = 5x5x16.\n",
        "  S4 = tf.nn.max_pool(C3, ksize = [1,2,2,1], strides = [1,2,2,1], padding = 'VALID')\n",
        "  \n",
        " # Flatten, Input = 5x5x16. Output = 400.\n",
        "  C5_flat = tf.reshape(S4, [-1,5*5*16])\n",
        "  \n",
        " # Layer 3: Convolutional Layer, Output = 1x1x120.\n",
        "  W5 = tf.Variable(tf.truncated_normal(shape = [400, 120], mean = 0, stddev = 0.1))\n",
        "  B5 = tf.Variable(tf.ones(120)/10)\n",
        "  C5 = tf.matmul(C5_flat,W5) + B5\n",
        " \n",
        "  C5 = tf.math.tanh(C5)\n",
        "\n",
        " # Layer 4: Fully Connected, Input = 120. Output = 84.\n",
        "  W6 = tf.Variable(tf.truncated_normal(shape = (120,84), mean = 0, stddev = 0.1))\n",
        "  B6 = tf.Variable(tf.zeros(84))\n",
        "  F6 = tf.matmul(C5,W6) + B6\n",
        "\n",
        "  F6 = tf.math.tanh(F6)\n",
        "\n",
        " # Layer 5: Fully Connected, Input = 84. Output = 10.\n",
        "  W7 = tf.Variable(tf.truncated_normal(shape = (84,10), mean = 0 , stddev = 0.1))\n",
        "  B7 = tf.Variable(tf.zeros(10))\n",
        "  out = tf.matmul(F6, W7) + B7\n",
        "  out = tf.nn.softmax(out)\n",
        "  return out\n",
        "\n",
        "Ylogits = LeNet_5(XX)\n",
        "\n",
        "########################################\n",
        "# define the Loss function\n",
        "########################################\n",
        "cross_entropy = tf.nn.softmax_cross_entropy_with_logits(logits=Ylogits, labels=Y)\n",
        "cross_entropy = tf.reduce_mean(cross_entropy) * 100\n",
        "\n",
        "########################################\n",
        "# train the model\n",
        "########################################\n",
        "optimizer = tf.train.AdamOptimizer(learning_rate)\n",
        "train_step = optimizer.minimize(cross_entropy)\n",
        "\n",
        "########################################\n",
        "# execute the model\n",
        "########################################\n",
        "init = tf.global_variables_initializer()\n",
        "\n",
        "correct_prediction = tf.equal(tf.argmax(Ylogits,1), tf.argmax(Y,1))\n",
        "accuracy = tf.reduce_mean(tf.cast(correct_prediction, \"float\"))\n",
        "\n",
        "train_accuracies = []\n",
        "test_accuracies = []\n",
        "costs = []\n",
        "droupout = 0.7       #since 0.7 showed best results after tryout\n",
        "\n",
        "n_epochs = 4000\n",
        "with tf.Session() as sess:\n",
        "  sess.run(init)\n",
        "  \n",
        "  for n in range(n_epochs):\n",
        "      batch_xs, batch_ys = mnist.train.next_batch(100)\n",
        "        \n",
        "      sess.run(train_step, {X: batch_xs, Y: batch_ys})\n",
        "      \n",
        "      #get test data accuracy\n",
        "      if n % 200 == 0:\n",
        "        cost, train_accuracy = sess.run([cross_entropy, accuracy], feed_dict={X: mnist.train.images, Y: mnist.train.labels})\n",
        "        print(\"Iteration {0}, cost is {1}\".format(n, round(cost,2)))\n",
        "        test_accuracy = sess.run(accuracy, feed_dict={X: mnist.test.images, Y: mnist.test.labels})\n",
        "        print(\"Current Model Accuracy: {0} %\".format(round(test_accuracy*100, 2)))\n",
        "        train_accuracies.append(train_accuracy)\n",
        "        test_accuracies.append(test_accuracy)\n",
        "        costs.append(cost)\n",
        "               \n",
        "  print(\"----------------------------------------------\")\n",
        "  final_accuracy = sess.run(accuracy, feed_dict={X: mnist.test.images, Y: mnist.test.labels})\n",
        "  print(\"Final Model Accuracy:{0}\".format(round(final_accuracy*100, 2)))\n",
        "  print(\"----------------------------------------------\")"
      ],
      "execution_count": 0,
      "outputs": [
        {
          "output_type": "stream",
          "text": [
            "Iteration 0, cost is 230.31\n",
            "Current Model Accuracy: 9.59 %\n",
            "Iteration 200, cost is 154.76\n",
            "Current Model Accuracy: 93.79 %\n",
            "Iteration 400, cost is 151.25\n",
            "Current Model Accuracy: 96.07 %\n",
            "Iteration 600, cost is 149.59\n",
            "Current Model Accuracy: 97.18 %\n",
            "Iteration 800, cost is 149.09\n",
            "Current Model Accuracy: 97.43 %\n",
            "Iteration 1000, cost is 148.54\n",
            "Current Model Accuracy: 97.82 %\n",
            "Iteration 1200, cost is 148.39\n",
            "Current Model Accuracy: 97.73 %\n",
            "Iteration 1400, cost is 148.24\n",
            "Current Model Accuracy: 97.85 %\n",
            "Iteration 1600, cost is 147.96\n",
            "Current Model Accuracy: 98.08 %\n",
            "Iteration 1800, cost is 147.8\n",
            "Current Model Accuracy: 98.11 %\n",
            "Iteration 2000, cost is 147.47\n",
            "Current Model Accuracy: 98.34 %\n",
            "Iteration 2200, cost is 147.45\n",
            "Current Model Accuracy: 98.4 %\n",
            "Iteration 2400, cost is 147.55\n",
            "Current Model Accuracy: 98.28 %\n",
            "Iteration 2600, cost is 147.22\n",
            "Current Model Accuracy: 98.48 %\n",
            "Iteration 2800, cost is 147.2\n",
            "Current Model Accuracy: 98.52 %\n",
            "Iteration 3000, cost is 147.03\n",
            "Current Model Accuracy: 98.62 %\n",
            "Iteration 3200, cost is 147.16\n",
            "Current Model Accuracy: 98.41 %\n",
            "Iteration 3400, cost is 147.12\n",
            "Current Model Accuracy: 98.49 %\n",
            "Iteration 3600, cost is 147.15\n",
            "Current Model Accuracy: 98.47 %\n",
            "Iteration 3800, cost is 147.14\n",
            "Current Model Accuracy: 98.06 %\n",
            "----------------------------------------------\n",
            "Final Model Accuracy:98.43\n",
            "----------------------------------------------\n"
          ],
          "name": "stdout"
        }
      ]
    },
    {
      "metadata": {
        "id": "9Yjmhg9BFa54",
        "colab_type": "code",
        "outputId": "3d05d260-0888-403b-a148-400dcbba9f06",
        "colab": {
          "base_uri": "https://localhost:8080/",
          "height": 378
        }
      },
      "cell_type": "code",
      "source": [
        "from matplotlib import pyplot as plt\n",
        "\n",
        "plt.plot(test_accuracies, label= \"test\")\n",
        "plt.plot(train_accuracies, label = \"train\")\n",
        "plt.title(\"LeNet-5 CNN- Accuracy\")\n",
        "plt.legend()"
      ],
      "execution_count": 0,
      "outputs": [
        {
          "output_type": "execute_result",
          "data": {
            "text/plain": [
              "<matplotlib.legend.Legend at 0x7f7166f51390>"
            ]
          },
          "metadata": {
            "tags": []
          },
          "execution_count": 23
        },
        {
          "output_type": "display_data",
          "data": {
            "image/png": "[encoded data removed]",
            "text/plain": [
              "<matplotlib.figure.Figure at 0x7f7166f66710>"
            ]
          },
          "metadata": {
            "tags": []
          }
        }
      ]
    },
    {
      "metadata": {
        "id": "X-Bel5ZXxiOd",
        "colab_type": "text"
      },
      "cell_type": "markdown",
      "source": [
        "---\n",
        "# 11. Implement AlexNet\n",
        "In the last section, you should implement **AlexNet** either using Tensorflow or Keras. Again, please take a look at its [paper](https://papers.nips.cc/paper/4824-imagenet-classification-with-deep-convolutional-neural-networks.pdf) before start to implement it.\n",
        "The AlexNet CNN architecture won the [ImageNet ILSVRC challenge](http://www.image-net.org/challenges/LSVRC/2012/) in 2012 by a large margin. It was developed by Alex Krizhevsky, Ilya Sutskever, and Geoffrey Hinton. It is quite similar to LeNet-5, only much larger and deeper, and it was the first to stack convolutional layers directly on top of each other, instead of stacking a pooling layer on top of each convolutional layer. The following table presents this architecture.\n",
        "<img src=\"figs/20-alexnet.png\" style=\"width: 600px;\"/>\n",
        "To train the model, we need a big dataset, however, in this assignment you are going to to assign the pretrained weights to your model, using `tf.Variable.assign`. You can download the pretrained weights from [bvlc_alexnet.npy](https://www.cs.toronto.edu/~guerzhoy/tf_alexnet/bvlc_alexnet.npy). This file is a NumPy array file created by the python. After you read this file, you will receive a python dictionary with a <key, value> pair for each layer. Each key is one of the layers names, e.g., `conv1`, and each value is a list of two values: (1) weights, and (2) biases of that layer. Part of the function to load the weights and biases to your model is given, and you need to complete it.\n",
        "\n",
        "Here is what you see if you read and print the shape of each layer from the file:\n",
        "```\n",
        "weight_dic = np.load(\"bvlc_alexnet.npy\", encoding=\"bytes\").item()\n",
        "for layer in weights_dic:\n",
        "    print(\"-\" * 20)\n",
        "    print(layer)\n",
        "    for wb in weights_dic[layer]:\n",
        "        print(wb.shape)\n",
        "\n",
        "#--------------------\n",
        "# fc8\n",
        "# (4096, 1000) # weights\n",
        "# (1000,) # bias\n",
        "#--------------------\n",
        "# fc7\n",
        "# (4096, 4096) # weights\n",
        "# (4096,) # bias\n",
        "#--------------------\n",
        "# fc6\n",
        "# (9216, 4096) # weights\n",
        "# (4096,) # bias\n",
        "#--------------------\n",
        "# conv5\n",
        "# (3, 3, 192, 256) # weights\n",
        "# (256,) # bias\n",
        "#--------------------\n",
        "# conv4\n",
        "# (3, 3, 192, 384) # weights\n",
        "# (384,) # bias\n",
        "#--------------------\n",
        "# conv3\n",
        "# (3, 3, 256, 384) # weights\n",
        "# (384,) # bias\n",
        "#--------------------\n",
        "# conv2\n",
        "# (5, 5, 48, 256) # weights\n",
        "# (256,) # bias\n",
        "#--------------------\n",
        "# conv1\n",
        "# (11, 11, 3, 96) # weights\n",
        "# (96,) # bias\n",
        "```\n"
      ]
    },
    {
      "metadata": {
        "id": "8HB7RfJzDYCf",
        "colab_type": "code",
        "outputId": "d063e6fd-4042-4f00-f60f-fde07e50a1b0",
        "colab": {
          "base_uri": "https://localhost:8080/",
          "height": 561
        }
      },
      "cell_type": "code",
      "source": [
        "weight_dict = np.load(\"bvlc_alexnet.npy\", encoding=\"bytes\").item()\n",
        "for layer in weight_dict:\n",
        "    print(\"-\" * 20)\n",
        "    print(layer)\n",
        "    print(weight_dict[layer][0].shape)\n",
        "    print(weight_dict[layer][1].shape)"
      ],
      "execution_count": 0,
      "outputs": [
        {
          "output_type": "stream",
          "text": [
            "--------------------\n",
            "fc6\n",
            "(9216, 4096)\n",
            "(4096,)\n",
            "--------------------\n",
            "fc7\n",
            "(4096, 4096)\n",
            "(4096,)\n",
            "--------------------\n",
            "fc8\n",
            "(4096, 1000)\n",
            "(1000,)\n",
            "--------------------\n",
            "conv3\n",
            "(3, 3, 256, 384)\n",
            "(384,)\n",
            "--------------------\n",
            "conv2\n",
            "(5, 5, 48, 256)\n",
            "(256,)\n",
            "--------------------\n",
            "conv1\n",
            "(11, 11, 3, 96)\n",
            "(96,)\n",
            "--------------------\n",
            "conv5\n",
            "(3, 3, 192, 256)\n",
            "(256,)\n",
            "--------------------\n",
            "conv4\n",
            "(3, 3, 192, 384)\n",
            "(384,)\n"
          ],
          "name": "stdout"
        }
      ]
    },
    {
      "metadata": {
        "id": "TfW57E1zxiOm",
        "colab_type": "code",
        "colab": {}
      },
      "cell_type": "code",
      "source": [
        "import tensorflow as tf\n",
        "reset_graph()\n",
        "\n",
        "#using a class AlexNet to call it for each image\n",
        "\n",
        "\n",
        "class AlexNet(object):\n",
        "    def __init__(self):\n",
        "      self.input_X = tf.placeholder(tf.float32, [None, 227, 227, 3])\n",
        "      \n",
        "      #There is a function for each step of AlexNet to not duplicate and copy paste each steps\n",
        "        \n",
        "    def convolutional_layer(self, inputs, shape, stride, name):\n",
        "        \n",
        "        with tf.variable_scope(name, reuse=tf.AUTO_REUSE) as scope:\n",
        "\n",
        "            weights = tf.get_variable('weights', shape=shape)\n",
        "            biases = tf.get_variable('biases', shape=shape[3])\n",
        "\n",
        "        if name in ['conv2', 'conv4', 'conv5']:\n",
        "            \n",
        "            \n",
        "            #List of different inputs\n",
        "            input_groups = tf.split(axis=3, num_or_size_splits=2, value=inputs)\n",
        "            \n",
        "            #List of different weights\n",
        "            weight_groups = tf.split(axis=3, num_or_size_splits=2, value=weights)\n",
        "            \n",
        "            #Creating the different conv nets with conv2D\n",
        "            \n",
        "            conv_nets = [tf.nn.conv2d(i, k, strides=[1, stride, stride, 1], padding='SAME') for i, k in zip(input_groups, weight_groups)]\n",
        "\n",
        "            # Concatenation of the convolved output together\n",
        "            \n",
        "            conv = tf.concat(axis=3, values=conv_nets)\n",
        "\n",
        "            return tf.nn.relu(tf.add(conv, biases), name=name)\n",
        "        \n",
        "        else:\n",
        "            \n",
        "            return tf.nn.relu(tf.add(tf.nn.conv2d(inputs, weights, strides=[1, stride, stride, 1], padding='SAME'), biases), name=name)\n",
        "        \n",
        "        \n",
        "    #Creation of the different conv\n",
        "    \n",
        "    def conv(self, x, filter_height, filter_width, num_filters, stride_y, stride_x, name,\n",
        "         padding='SAME', groups=1):\n",
        "\n",
        "        # Number of input channels\n",
        "        \n",
        "        input_channels = int(x.get_shape()[-1])\n",
        "\n",
        "        # Function for the convolution\n",
        "        \n",
        "        convolve = lambda i, k: tf.nn.conv2d(i, k,\n",
        "                                             strides=[1, stride_y, stride_x, 1],\n",
        "                                             padding=padding)\n",
        "\n",
        "        with tf.variable_scope(name, reuse=tf.AUTO_REUSE) as scope:\n",
        "          \n",
        "            # Create tf variables for the weights and biases of the conv layer\n",
        "            \n",
        "            #Weights\n",
        "            \n",
        "            weights = tf.get_variable('weights', shape=[filter_height,\n",
        "                                                        filter_width,\n",
        "                                                        input_channels/groups,\n",
        "                                                        num_filters])\n",
        "            #Biases\n",
        "            \n",
        "            biases = tf.get_variable('biases', shape=[num_filters])\n",
        "\n",
        "            \n",
        "        if groups == 1:\n",
        "            conv = convolve(x, weights)\n",
        "\n",
        "        # In the cases of multiple groups, split inputs & weights and\n",
        "        \n",
        "        else:\n",
        "          \n",
        "            # Split input and weights and convolve them separately\n",
        "            input_groups = tf.split(axis=3, num_or_size_splits=groups, value=x)\n",
        "            weight_groups = tf.split(axis=3, num_or_size_splits=groups,\n",
        "                                     value=weights)\n",
        "            \n",
        "            output_groups = [convolve(i, k) for i, k in zip(input_groups, weight_groups)]\n",
        "\n",
        "            # Concat the convolved output together again\n",
        "            conv = tf.concat(axis=3, values=output_groups)\n",
        "\n",
        "        # Add biases\n",
        "        \n",
        "        bias = tf.reshape(tf.nn.bias_add(conv, biases), tf.shape(conv))\n",
        "\n",
        "        # Apply relu function\n",
        "        \n",
        "        relu = tf.nn.relu(bias, name=scope.name)\n",
        "\n",
        "        return relu\n",
        "        \n",
        "        \n",
        "    #Creation of the fully connected layer used in AlexNet\n",
        "    \n",
        "    def fully_connected_layer(self, inputs, shape, name):\n",
        "        \n",
        "        with tf.variable_scope(name, reuse=tf.AUTO_REUSE) as scope:\n",
        "                \n",
        "                weights = tf.get_variable('weights', shape=shape, trainable=True)\n",
        "              \n",
        "                biases = tf.get_variable('biases', shape=shape[1], trainable=True)\n",
        "                \n",
        "        if name != 'fc8':\n",
        "          \n",
        "            return tf.nn.relu(tf.add(tf.matmul(inputs, weights), biases, name=name))\n",
        "          \n",
        "        else:\n",
        "          \n",
        "            return tf.add(tf.matmul(inputs, weights), biases, name=name)\n",
        "            \n",
        "        \n",
        "    def set_model(self):\n",
        "      \n",
        "      #The AlexNet in the right order\n",
        "        \n",
        "        \n",
        "        # 1st Convolutional Layer\n",
        "        \n",
        "        conv1 = self.convolutional_layer(inputs=self.input_X, shape=[11, 11, 3, 96], stride=4, name='conv1')\n",
        "\n",
        "        local_response_norm1 = tf.nn.local_response_normalization(\n",
        "            conv1, \n",
        "            depth_radius=2, \n",
        "            alpha=1e-05, \n",
        "            beta=0.75, \n",
        "            name='norm1')\n",
        "        \n",
        "        # Max Pooling\n",
        "    \n",
        "        pool1 = tf.nn.max_pool( \n",
        "            value=local_response_norm1,\n",
        "            ksize = [1, 3, 3, 1],\n",
        "            strides = [1, 2, 2, 1],\n",
        "            padding='VALID')\n",
        "\n",
        "      \n",
        "        # 2nd Convolutional Layer\n",
        "        \n",
        "        conv2 = self.convolutional_layer(inputs=pool1, shape=[5, 5, 48, 256], stride=1, name='conv2')\n",
        "\n",
        "        local_response_norm2= tf.nn.local_response_normalization(\n",
        "            conv2, \n",
        "            depth_radius=2, \n",
        "            alpha=1e-05, \n",
        "            beta=0.75, \n",
        "            name='norm2')\n",
        "        \n",
        "        # Max Pooling\n",
        "\n",
        "        pool2 = tf.nn.max_pool( \n",
        "            value=local_response_norm2,\n",
        "            ksize = [1, 3, 3, 1],\n",
        "            strides = [1, 2, 2, 1],\n",
        "            padding='VALID')\n",
        "        \n",
        "        # 3rd Convolutional Layer\n",
        "\n",
        "        conv3 = self.convolutional_layer(inputs=pool2, stride=1, shape=[3, 3, 256, 384], name='conv3')\n",
        "        \n",
        "        # 4th Convolutional Layer\n",
        "        \n",
        "        conv4 = self.convolutional_layer(inputs=conv3, stride=1, shape=[3, 3, 192, 384], name='conv4')\n",
        "        \n",
        "        # 5th Convolutional Layer\n",
        "        \n",
        "        conv5 = self.convolutional_layer(inputs=conv4, stride=1, shape=[3, 3, 192, 256], name='conv5')\n",
        "\n",
        "        \n",
        "        # Max Pooling\n",
        "        \n",
        "        pool3 = tf.nn.max_pool( \n",
        "            value=conv5,\n",
        "            ksize = [1, 3, 3, 1],\n",
        "            strides = [1, 2, 2, 1],\n",
        "            padding='VALID')\n",
        "        \n",
        "        #Flattening\n",
        "\n",
        "        flattened = tf.reshape(pool3, [-1, 6 * 6 * 256])\n",
        "        \n",
        "        # 1st Fully Connected Layer\n",
        "\n",
        "        dense_1 = self.fully_connected_layer(inputs=flattened, shape=[9216, 4096], name='fc6')\n",
        "        dropout_1 = tf.nn.dropout(dense_1, keep_prob=0.7)\n",
        "        \n",
        "        # 2nd Fully Connected Layer\n",
        "\n",
        "        dense_2 = self.fully_connected_layer(inputs=dropout_1, shape=[4096, 4096], name='fc7')\n",
        "        dropout_2 = tf.nn.dropout(dense_2, keep_prob=0.7)\n",
        "\n",
        "        # 3rd Fully Connected Layer\n",
        "        \n",
        "        output = self.fully_connected_layer(inputs=dropout_2, shape=[4096, 1000], name='fc8')\n",
        "\n",
        "        self.predictions = tf.nn.softmax(output)\n",
        "\n",
        "    # load inital weights and biases to the model\n",
        "    \n",
        "    def load_initial_weights(self, session):\n",
        "      \n",
        "        # load the weights into memory\n",
        "        \n",
        "        weights_dict = np.load('bvlc_alexnet.npy', encoding='bytes').item()\n",
        "\n",
        "        # loop over all layer names stored in the weights dict\n",
        "        \n",
        "        for layer in weights_dict:\n",
        "          \n",
        "            with tf.variable_scope(layer, reuse=True):\n",
        "              \n",
        "                # loop over list of weights/biases and assign them to their corresponding tf variable\n",
        "                \n",
        "                for wb in weights_dict[layer]:\n",
        "                    \n",
        "                    if len(wb.shape) == 1:\n",
        "                        bias = tf.get_variable('biases', trainable=False)\n",
        "                        session.run(bias.assign(wb))\n",
        "                    # weights\n",
        "                    else:\n",
        "                        weight = tf.get_variable('weights', trainable=False)\n",
        "                        session.run(weight.assign(wb))"
      ],
      "execution_count": 0,
      "outputs": []
    },
    {
      "metadata": {
        "id": "nWBNCKX9Knv2",
        "colab_type": "text"
      },
      "cell_type": "markdown",
      "source": [
        "#### Test the model\n",
        "After building the AlexNet model, you can test it on different images and present the accuracy of the model. To do so, first you need to use **OpenCV** library to make the images ready to give as input to the model. OpenCV is a library used for image processing. Below you can see how to read an image file and pre-process it using OpenCV to give it to the model. However, you need to complete the code and test the accuracy of your model. The teset images (shown below) are available in the `test_images` folder.\n",
        "<table width=\"100%\">\n",
        "<tr>\n",
        "<td><img src=\"test_images/test_image1.jpg\" style=\"width:200px;\"></td>\n",
        "<td><p align=\"center\"><img src=\"test_images/test_image2.jpg\" style=\"width:200px;\"></td>\n",
        "<td align=\"right\"><img src=\"test_images/test_image3.jpg\" style=\"width:200px;\"></td>\n",
        "</tr>"
      ]
    },
    {
      "metadata": {
        "id": "zHhVquzk_RKc",
        "colab_type": "code",
        "outputId": "27db9022-606c-45eb-8f79-0549ab265f08",
        "colab": {
          "base_uri": "https://localhost:8080/",
          "height": 470
        }
      },
      "cell_type": "code",
      "source": [
        "reset_graph()\n",
        "\n",
        "import cv2\n",
        "import pickle\n",
        "import os \n",
        "\n",
        "\n",
        "\n",
        "#get list of all images\n",
        "\n",
        "current_dir = os.getcwd()\n",
        "image_path = os.path.join(current_dir, '')\n",
        "img_files = [os.path.join(image_path, f) for f in os.listdir(image_path) if f.endswith('.jpg')]\n",
        "\n",
        "#load all images\n",
        "imgs = []\n",
        "for f in img_files:\n",
        "    imgs.append(cv2.imread(f))\n",
        "\n",
        "with tf.Session() as sess:\n",
        "        \n",
        "    alexnet = AlexNet()\n",
        "    alexnet.set_model()\n",
        "    alexnet.load_initial_weights(sess)\n",
        "\n",
        "    preds = alexnet.predictions\n",
        "    \n",
        "    # loop over all images\n",
        "    for i, image in enumerate(imgs):\n",
        "        # convert image to float32 and resize to (227x227)\n",
        "        img = cv2.resize(image.astype(np.float32), (227, 227))\n",
        "        \n",
        "        # subtract the ImageNet mean\n",
        "        # Mean subtraction per channel was used to center the data around zero mean for each channel (R, G, B).\n",
        "        # This typically helps the network to learn faster since gradients act uniformly for each channel.\n",
        "        imagenet_mean = np.array([104., 117., 124.], dtype=np.float32)\n",
        "        img -= imagenet_mean\n",
        "        \n",
        "        # reshape as needed to feed into model\n",
        "        img = img.reshape((1, 227, 227, 3))\n",
        "\n",
        "        ####################################\n",
        "        # PREDICT\n",
        "        ####################################\n",
        "        prediction_temp = sess.run(preds, feed_dict={alexnet.input_X: img})\n",
        "\n",
        "        argmax = np.argmax(prediction_temp)\n",
        "\n",
        "        # print prob\n",
        "        print({argmax})\n",
        "        print('Probability:', round(100* prediction_temp[0, argmax], 2))\n",
        "        "
      ],
      "execution_count": 10,
      "outputs": [
        {
          "output_type": "error",
          "ename": "IOError",
          "evalue": "ignored",
          "traceback": [
            "\u001b[0;31m\u001b[0m",
            "\u001b[0;31mIOError\u001b[0mTraceback (most recent call last)",
            "\u001b[0;32m<ipython-input-10-1f22e0cfe631>\u001b[0m in \u001b[0;36m<module>\u001b[0;34m()\u001b[0m\n\u001b[1;32m     22\u001b[0m     \u001b[0malexnet\u001b[0m \u001b[0;34m=\u001b[0m \u001b[0mAlexNet\u001b[0m\u001b[0;34m(\u001b[0m\u001b[0;34m)\u001b[0m\u001b[0;34m\u001b[0m\u001b[0m\n\u001b[1;32m     23\u001b[0m     \u001b[0malexnet\u001b[0m\u001b[0;34m.\u001b[0m\u001b[0mset_model\u001b[0m\u001b[0;34m(\u001b[0m\u001b[0;34m)\u001b[0m\u001b[0;34m\u001b[0m\u001b[0m\n\u001b[0;32m---> 24\u001b[0;31m     \u001b[0malexnet\u001b[0m\u001b[0;34m.\u001b[0m\u001b[0mload_initial_weights\u001b[0m\u001b[0;34m(\u001b[0m\u001b[0msess\u001b[0m\u001b[0;34m)\u001b[0m\u001b[0;34m\u001b[0m\u001b[0m\n\u001b[0m\u001b[1;32m     25\u001b[0m \u001b[0;34m\u001b[0m\u001b[0m\n\u001b[1;32m     26\u001b[0m     \u001b[0mpreds\u001b[0m \u001b[0;34m=\u001b[0m \u001b[0malexnet\u001b[0m\u001b[0;34m.\u001b[0m\u001b[0mpredictions\u001b[0m\u001b[0;34m\u001b[0m\u001b[0m\n",
            "\u001b[0;32m<ipython-input-8-a68dc3111deb>\u001b[0m in \u001b[0;36mload_initial_weights\u001b[0;34m(self, session)\u001b[0m\n\u001b[1;32m    140\u001b[0m     \u001b[0;32mdef\u001b[0m \u001b[0mload_initial_weights\u001b[0m\u001b[0;34m(\u001b[0m\u001b[0mself\u001b[0m\u001b[0;34m,\u001b[0m \u001b[0msession\u001b[0m\u001b[0;34m)\u001b[0m\u001b[0;34m:\u001b[0m\u001b[0;34m\u001b[0m\u001b[0m\n\u001b[1;32m    141\u001b[0m         \u001b[0;31m# load the weights into memory\u001b[0m\u001b[0;34m\u001b[0m\u001b[0;34m\u001b[0m\u001b[0m\n\u001b[0;32m--> 142\u001b[0;31m         \u001b[0mweights_dict\u001b[0m \u001b[0;34m=\u001b[0m \u001b[0mnp\u001b[0m\u001b[0;34m.\u001b[0m\u001b[0mload\u001b[0m\u001b[0;34m(\u001b[0m\u001b[0;34m'bvlc_alexnet.npy'\u001b[0m\u001b[0;34m,\u001b[0m \u001b[0mencoding\u001b[0m\u001b[0;34m=\u001b[0m\u001b[0;34m'bytes'\u001b[0m\u001b[0;34m)\u001b[0m\u001b[0;34m.\u001b[0m\u001b[0mitem\u001b[0m\u001b[0;34m(\u001b[0m\u001b[0;34m)\u001b[0m\u001b[0;34m\u001b[0m\u001b[0m\n\u001b[0m\u001b[1;32m    143\u001b[0m \u001b[0;34m\u001b[0m\u001b[0m\n\u001b[1;32m    144\u001b[0m         \u001b[0;31m# loop over all layer names stored in the weights dict\u001b[0m\u001b[0;34m\u001b[0m\u001b[0;34m\u001b[0m\u001b[0m\n",
            "\u001b[0;32m/usr/local/lib/python2.7/dist-packages/numpy/lib/npyio.pyc\u001b[0m in \u001b[0;36mload\u001b[0;34m(file, mmap_mode, allow_pickle, fix_imports, encoding)\u001b[0m\n\u001b[1;32m    370\u001b[0m     \u001b[0mown_fid\u001b[0m \u001b[0;34m=\u001b[0m \u001b[0mFalse\u001b[0m\u001b[0;34m\u001b[0m\u001b[0m\n\u001b[1;32m    371\u001b[0m     \u001b[0;32mif\u001b[0m \u001b[0misinstance\u001b[0m\u001b[0;34m(\u001b[0m\u001b[0mfile\u001b[0m\u001b[0;34m,\u001b[0m \u001b[0mbasestring\u001b[0m\u001b[0;34m)\u001b[0m\u001b[0;34m:\u001b[0m\u001b[0;34m\u001b[0m\u001b[0m\n\u001b[0;32m--> 372\u001b[0;31m         \u001b[0mfid\u001b[0m \u001b[0;34m=\u001b[0m \u001b[0mopen\u001b[0m\u001b[0;34m(\u001b[0m\u001b[0mfile\u001b[0m\u001b[0;34m,\u001b[0m \u001b[0;34m\"rb\"\u001b[0m\u001b[0;34m)\u001b[0m\u001b[0;34m\u001b[0m\u001b[0m\n\u001b[0m\u001b[1;32m    373\u001b[0m         \u001b[0mown_fid\u001b[0m \u001b[0;34m=\u001b[0m \u001b[0mTrue\u001b[0m\u001b[0;34m\u001b[0m\u001b[0m\n\u001b[1;32m    374\u001b[0m     \u001b[0;32melif\u001b[0m \u001b[0mis_pathlib_path\u001b[0m\u001b[0;34m(\u001b[0m\u001b[0mfile\u001b[0m\u001b[0;34m)\u001b[0m\u001b[0;34m:\u001b[0m\u001b[0;34m\u001b[0m\u001b[0m\n",
            "\u001b[0;31mIOError\u001b[0m: [Errno 2] No such file or directory: u'bvlc_alexnet.npy'"
          ]
        }
      ]
    },
    {
      "metadata": {
        "id": "k0qDaDoDMlGY",
        "colab_type": "code",
        "colab": {}
      },
      "cell_type": "code",
      "source": [
        ""
      ],
      "execution_count": 0,
      "outputs": []
    }
  ]
}